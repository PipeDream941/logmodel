{
 "cells": [
  {
   "cell_type": "code",
   "execution_count": 1,
   "metadata": {},
   "outputs": [],
   "source": [
    "apicsv_path = \"apiFunList.csv\""
   ]
  },
  {
   "cell_type": "code",
   "execution_count": 2,
   "metadata": {},
   "outputs": [],
   "source": [
    "api2index = {}\n",
    "index2api = {}\n",
    "with open(apicsv_path, 'r') as f:\n",
    "    api_list = f.read().split(\"\\n\")\n",
    "for api in api_list[1:-1]:\n",
    "    index, apifun = api.split(\",\")\n",
    "    api2index[apifun] = index\n",
    "    index2api[index] = apifun\n",
    "api_list = index2api.values()"
   ]
  },
  {
   "cell_type": "code",
   "execution_count": 15,
   "metadata": {},
   "outputs": [],
   "source": [
    "from transformers import BertTokenizer, BertModel\n",
    "import numpy as np\n",
    "import torch\n",
    "import tqdm"
   ]
  },
  {
   "cell_type": "code",
   "execution_count": 5,
   "metadata": {},
   "outputs": [
    {
     "name": "stderr",
     "output_type": "stream",
     "text": [
      "Downloading: 100%|██████████| 232k/232k [00:00<00:00, 321kB/s]  \n",
      "d:\\miniconda3\\envs\\py310\\lib\\site-packages\\huggingface_hub\\file_download.py:123: UserWarning: `huggingface_hub` cache-system uses symlinks by default to efficiently store duplicated files but your machine does not support them in C:\\Users\\sivan\\.cache\\huggingface\\hub. Caching files will still work but in a degraded version that might require more space on your disk. This warning can be disabled by setting the `HF_HUB_DISABLE_SYMLINKS_WARNING` environment variable. For more details, see https://huggingface.co/docs/huggingface_hub/how-to-cache#limitations.\n",
      "To support symlinks on Windows, you either need to activate Developer Mode or to run Python as an administrator. In order to see activate developer mode, see this article: https://docs.microsoft.com/en-us/windows/apps/get-started/enable-your-device-for-development\n",
      "  warnings.warn(message)\n",
      "Downloading: 100%|██████████| 28.0/28.0 [00:00<00:00, 14.1kB/s]\n",
      "Downloading: 100%|██████████| 570/570 [00:00<00:00, 188kB/s]\n",
      "Downloading: 100%|██████████| 440M/440M [01:08<00:00, 6.47MB/s]    \n",
      "Some weights of the model checkpoint at bert-base-uncased were not used when initializing BertModel: ['cls.predictions.transform.dense.bias', 'cls.predictions.decoder.weight', 'cls.predictions.transform.LayerNorm.weight', 'cls.predictions.transform.LayerNorm.bias', 'cls.predictions.bias', 'cls.seq_relationship.bias', 'cls.predictions.transform.dense.weight', 'cls.seq_relationship.weight']\n",
      "- This IS expected if you are initializing BertModel from the checkpoint of a model trained on another task or with another architecture (e.g. initializing a BertForSequenceClassification model from a BertForPreTraining model).\n",
      "- This IS NOT expected if you are initializing BertModel from the checkpoint of a model that you expect to be exactly identical (initializing a BertForSequenceClassification model from a BertForSequenceClassification model).\n"
     ]
    }
   ],
   "source": [
    "tokenizer = BertTokenizer.from_pretrained('bert-base-uncased')\n",
    "model = BertModel.from_pretrained('bert-base-uncased')"
   ]
  },
  {
   "cell_type": "code",
   "execution_count": 9,
   "metadata": {},
   "outputs": [],
   "source": [
    "def get_encoded_api(api):\n",
    "    encoded_dict = tokenizer.encode_plus(\n",
    "                        api,    # Sentence to encode.\n",
    "                        add_special_tokens = False, # Not Add '[CLS]' and '[SEP]'\n",
    "                        return_attention_mask = False,   \n",
    "                        return_tensors = 'pt'    \n",
    "                )\n",
    "    return encoded_dict['input_ids']\n",
    "\n",
    "api_tokenized_ids = [get_encoded_api(api) for api in api_list]\n"
   ]
  },
  {
   "cell_type": "code",
   "execution_count": 18,
   "metadata": {},
   "outputs": [
    {
     "data": {
      "text/plain": [
       "BertModel(\n",
       "  (embeddings): BertEmbeddings(\n",
       "    (word_embeddings): Embedding(30522, 768, padding_idx=0)\n",
       "    (position_embeddings): Embedding(512, 768)\n",
       "    (token_type_embeddings): Embedding(2, 768)\n",
       "    (LayerNorm): LayerNorm((768,), eps=1e-12, elementwise_affine=True)\n",
       "    (dropout): Dropout(p=0.1, inplace=False)\n",
       "  )\n",
       "  (encoder): BertEncoder(\n",
       "    (layer): ModuleList(\n",
       "      (0-11): 12 x BertLayer(\n",
       "        (attention): BertAttention(\n",
       "          (self): BertSelfAttention(\n",
       "            (query): Linear(in_features=768, out_features=768, bias=True)\n",
       "            (key): Linear(in_features=768, out_features=768, bias=True)\n",
       "            (value): Linear(in_features=768, out_features=768, bias=True)\n",
       "            (dropout): Dropout(p=0.1, inplace=False)\n",
       "          )\n",
       "          (output): BertSelfOutput(\n",
       "            (dense): Linear(in_features=768, out_features=768, bias=True)\n",
       "            (LayerNorm): LayerNorm((768,), eps=1e-12, elementwise_affine=True)\n",
       "            (dropout): Dropout(p=0.1, inplace=False)\n",
       "          )\n",
       "        )\n",
       "        (intermediate): BertIntermediate(\n",
       "          (dense): Linear(in_features=768, out_features=3072, bias=True)\n",
       "          (intermediate_act_fn): GELUActivation()\n",
       "        )\n",
       "        (output): BertOutput(\n",
       "          (dense): Linear(in_features=3072, out_features=768, bias=True)\n",
       "          (LayerNorm): LayerNorm((768,), eps=1e-12, elementwise_affine=True)\n",
       "          (dropout): Dropout(p=0.1, inplace=False)\n",
       "        )\n",
       "      )\n",
       "    )\n",
       "  )\n",
       "  (pooler): BertPooler(\n",
       "    (dense): Linear(in_features=768, out_features=768, bias=True)\n",
       "    (activation): Tanh()\n",
       "  )\n",
       ")"
      ]
     },
     "execution_count": 18,
     "metadata": {},
     "output_type": "execute_result"
    }
   ],
   "source": [
    "device = torch.device('cuda:0' if torch.cuda.is_available() else 'cpu')\n",
    "model.to(device)"
   ]
  },
  {
   "cell_type": "code",
   "execution_count": 27,
   "metadata": {},
   "outputs": [
    {
     "name": "stderr",
     "output_type": "stream",
     "text": [
      "100%|██████████| 15938/15938 [01:31<00:00, 173.68it/s]\n"
     ]
    }
   ],
   "source": [
    "\n",
    "import os\n",
    "from tqdm import tqdm\n",
    "api_tmber_path = 'api_embeddings2.np'\n",
    "#如果文件存在，就删除\n",
    "if os.path.exists(api_tmber_path):\n",
    "    os.remove(api_tmber_path)\n",
    "length = len(api_tokenized_ids)\n",
    "api_embed_array = np.empty((length,768))\n",
    "for i in tqdm(range(0,len(api_tokenized_ids))):\n",
    "    input = api_tokenized_ids[i]\n",
    "    input = input.to(device)\n",
    "    outputs = model(input)\n",
    "    outputs = outputs[0].mean(dim=1, keepdim=False)\n",
    "    outputs = outputs.squeeze(0)\n",
    "    api_embed_array[i] = outputs.cpu().detach().numpy()"
   ]
  },
  {
   "cell_type": "code",
   "execution_count": 28,
   "metadata": {},
   "outputs": [],
   "source": [
    "with open('api_embeddings2.np','wb') as f:\n",
    "    np.save(f,api_embed_array)"
   ]
  },
  {
   "cell_type": "code",
   "execution_count": 15,
   "outputs": [],
   "source": [
    "# 加载api_embed文件，加载api_csv文件，生成api2token字典\n",
    "import numpy as np\n",
    "\n",
    "api_embed_path = \"../data/api_embed_ae_10.npy\"\n",
    "api_csv_path = \"../data/apiFunList.csv\"\n",
    "api2token_path = \"../data/api2token.npy\"\n",
    "\n",
    "api_embedding = np.load(api_embed_path, allow_pickle=True)\n",
    "api2token = {}\n",
    "\n",
    "with open(api_csv_path, 'r') as f:\n",
    "    api_list = f.read().split(\"\\n\")\n",
    "for api in api_list[1:-1]:\n",
    "    # api_list[1:-1] 删去表头和结尾的空格\n",
    "    # index从0开始\n",
    "    index, apifun = api.split(\",\")\n",
    "    api2token[apifun] = api_embedding[int(index)]\n",
    "# 将空api的embedding置为0,长度为api_embedding文件的维度\n",
    "api2token[\"\"] = np.zeros(api_embedding.shape[1])\n",
    "np.save(api2token_path, api2token)"
   ],
   "metadata": {
    "collapsed": false,
    "ExecuteTime": {
     "start_time": "2023-04-08T22:22:48.692464Z",
     "end_time": "2023-04-08T22:22:48.790038Z"
    }
   }
  },
  {
   "cell_type": "code",
   "execution_count": null,
   "outputs": [],
   "source": [],
   "metadata": {
    "collapsed": false
   }
  }
 ],
 "metadata": {
  "kernelspec": {
   "display_name": "Python 3",
   "language": "python",
   "name": "python3"
  },
  "language_info": {
   "codemirror_mode": {
    "name": "ipython",
    "version": 3
   },
   "file_extension": ".py",
   "mimetype": "text/x-python",
   "name": "python",
   "nbconvert_exporter": "python",
   "pygments_lexer": "ipython3",
   "version": "3.10.10"
  },
  "orig_nbformat": 4
 },
 "nbformat": 4,
 "nbformat_minor": 2
}
