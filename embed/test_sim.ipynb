{
 "cells": [
  {
   "cell_type": "code",
   "execution_count": 2,
   "outputs": [],
   "source": [
    "import numpy as np"
   ],
   "metadata": {
    "collapsed": false,
    "ExecuteTime": {
     "start_time": "2023-04-08T18:19:05.936411Z",
     "end_time": "2023-04-08T18:19:06.082626Z"
    }
   }
  },
  {
   "cell_type": "code",
   "execution_count": 9,
   "outputs": [],
   "source": [
    "mat1_path = \"../data/api_sim_matrix.npy\"\n",
    "mat2_path = \"../data/api_sim_matrix_mean.npy\"\n",
    "mat3_path = \"../data/api_sim_matrix_pca_random.npy\"\n",
    "mat4_path = \"../data/api_sim_matrix_ae.npy\"\n",
    "mat5_path = \"../data/api_sim_matrix_ae_10.npy\"\n",
    "mat1 = np.load(mat1_path)\n",
    "mat2 = np.load(mat2_path)\n",
    "mat3 = np.load(mat3_path)\n",
    "mat4 = np.load(mat4_path)\n",
    "mat5 = np.load(mat5_path)"
   ],
   "metadata": {
    "collapsed": false,
    "ExecuteTime": {
     "start_time": "2023-04-08T19:58:49.090634Z",
     "end_time": "2023-04-08T19:59:04.809738Z"
    }
   }
  },
  {
   "cell_type": "code",
   "execution_count": 4,
   "outputs": [
    {
     "data": {
      "text/plain": "0.9773386923228373"
     },
     "execution_count": 4,
     "metadata": {},
     "output_type": "execute_result"
    }
   ],
   "source": [
    "np.sum(mat1 * mat2) / np.linalg.norm(mat1) / np.linalg.norm(mat2)"
   ],
   "metadata": {
    "collapsed": false,
    "ExecuteTime": {
     "start_time": "2023-04-08T18:19:15.843383Z",
     "end_time": "2023-04-08T18:19:17.071419Z"
    }
   }
  },
  {
   "cell_type": "code",
   "execution_count": 5,
   "outputs": [
    {
     "data": {
      "text/plain": "0.09529241713626625"
     },
     "execution_count": 5,
     "metadata": {},
     "output_type": "execute_result"
    }
   ],
   "source": [
    "np.sum(mat1 * mat3) / np.linalg.norm(mat1) / np.linalg.norm(mat3)"
   ],
   "metadata": {
    "collapsed": false,
    "ExecuteTime": {
     "start_time": "2023-04-08T18:19:18.918765Z",
     "end_time": "2023-04-08T18:19:20.132228Z"
    }
   }
  },
  {
   "cell_type": "code",
   "execution_count": 8,
   "outputs": [
    {
     "data": {
      "text/plain": "0.990619032143637"
     },
     "execution_count": 8,
     "metadata": {},
     "output_type": "execute_result"
    }
   ],
   "source": [
    "np.sum(mat1 * mat4) / np.linalg.norm(mat1) / np.linalg.norm(mat4)"
   ],
   "metadata": {
    "collapsed": false,
    "ExecuteTime": {
     "start_time": "2023-04-08T18:20:11.358301Z",
     "end_time": "2023-04-08T18:20:12.479294Z"
    }
   }
  },
  {
   "cell_type": "code",
   "execution_count": 10,
   "outputs": [
    {
     "data": {
      "text/plain": "0.9585692003237831"
     },
     "execution_count": 10,
     "metadata": {},
     "output_type": "execute_result"
    }
   ],
   "source": [
    "np.sum(mat1 * mat5) / np.linalg.norm(mat1) / np.linalg.norm(mat5)"
   ],
   "metadata": {
    "collapsed": false,
    "ExecuteTime": {
     "start_time": "2023-04-08T19:59:04.842734Z",
     "end_time": "2023-04-08T19:59:06.589810Z"
    }
   }
  },
  {
   "cell_type": "code",
   "execution_count": null,
   "outputs": [],
   "source": [],
   "metadata": {
    "collapsed": false
   }
  }
 ],
 "metadata": {
  "kernelspec": {
   "display_name": "Python 3",
   "language": "python",
   "name": "python3"
  },
  "language_info": {
   "codemirror_mode": {
    "name": "ipython",
    "version": 2
   },
   "file_extension": ".py",
   "mimetype": "text/x-python",
   "name": "python",
   "nbconvert_exporter": "python",
   "pygments_lexer": "ipython2",
   "version": "2.7.6"
  }
 },
 "nbformat": 4,
 "nbformat_minor": 0
}
