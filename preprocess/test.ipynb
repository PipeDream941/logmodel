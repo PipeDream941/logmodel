{
 "cells": [
  {
   "cell_type": "code",
   "execution_count": 1,
   "outputs": [
    {
     "name": "stdout",
     "output_type": "stream",
     "text": [
      "读取文件\n",
      "文件处理结束\n",
      "start process oov\n",
      "预训练模型词嵌入\n"
     ]
    },
    {
     "data": {
      "text/plain": "Downloading:   0%|          | 0.00/570 [00:00<?, ?B/s]",
      "application/vnd.jupyter.widget-view+json": {
       "version_major": 2,
       "version_minor": 0,
       "model_id": "3af89d9f9ccf441c88deb10276b94ab1"
      }
     },
     "metadata": {},
     "output_type": "display_data"
    },
    {
     "name": "stderr",
     "output_type": "stream",
     "text": [
      "D:\\miniconda3\\envs\\py310\\lib\\site-packages\\huggingface_hub\\file_download.py:123: UserWarning: `huggingface_hub` cache-system uses symlinks by default to efficiently store duplicated files but your machine does not support them in C:\\Users\\sivan\\.cache\\huggingface\\hub. Caching files will still work but in a degraded version that might require more space on your disk. This warning can be disabled by setting the `HF_HUB_DISABLE_SYMLINKS_WARNING` environment variable. For more details, see https://huggingface.co/docs/huggingface_hub/how-to-cache#limitations.\n",
      "To support symlinks on Windows, you either need to activate Developer Mode or to run Python as an administrator. In order to see activate developer mode, see this article: https://docs.microsoft.com/en-us/windows/apps/get-started/enable-your-device-for-development\n",
      "  warnings.warn(message)\n"
     ]
    },
    {
     "data": {
      "text/plain": "Downloading:   0%|          | 0.00/440M [00:00<?, ?B/s]",
      "application/vnd.jupyter.widget-view+json": {
       "version_major": 2,
       "version_minor": 0,
       "model_id": "c8203af957884c14b55b9102dea66da1"
      }
     },
     "metadata": {},
     "output_type": "display_data"
    },
    {
     "name": "stderr",
     "output_type": "stream",
     "text": [
      "Some weights of the model checkpoint at bert-base-uncased were not used when initializing BertModel: ['cls.predictions.transform.LayerNorm.weight', 'cls.predictions.decoder.weight', 'cls.predictions.transform.dense.bias', 'cls.seq_relationship.weight', 'cls.predictions.bias', 'cls.predictions.transform.dense.weight', 'cls.seq_relationship.bias', 'cls.predictions.transform.LayerNorm.bias']\n",
      "- This IS expected if you are initializing BertModel from the checkpoint of a model trained on another task or with another architecture (e.g. initializing a BertForSequenceClassification model from a BertForPreTraining model).\n",
      "- This IS NOT expected if you are initializing BertModel from the checkpoint of a model that you expect to be exactly identical (initializing a BertForSequenceClassification model from a BertForSequenceClassification model).\n"
     ]
    },
    {
     "data": {
      "text/plain": "Downloading:   0%|          | 0.00/232k [00:00<?, ?B/s]",
      "application/vnd.jupyter.widget-view+json": {
       "version_major": 2,
       "version_minor": 0,
       "model_id": "01be84a0693743dbafb273a27b5e99c9"
      }
     },
     "metadata": {},
     "output_type": "display_data"
    },
    {
     "data": {
      "text/plain": "Downloading:   0%|          | 0.00/28.0 [00:00<?, ?B/s]",
      "application/vnd.jupyter.widget-view+json": {
       "version_major": 2,
       "version_minor": 0,
       "model_id": "ae57f565b4da4c758bf16fb872c656a0"
      }
     },
     "metadata": {},
     "output_type": "display_data"
    },
    {
     "name": "stdout",
     "output_type": "stream",
     "text": [
      "Using cuda device\n"
     ]
    },
    {
     "name": "stderr",
     "output_type": "stream",
     "text": [
      "100%|██████████| 105/105 [00:05<00:00, 18.60it/s]\n"
     ]
    },
    {
     "name": "stdout",
     "output_type": "stream",
     "text": [
      "oov词嵌入降维\n",
      "Using cuda device\n"
     ]
    },
    {
     "name": "stderr",
     "output_type": "stream",
     "text": [
      "100%|██████████| 1000/1000 [00:08<00:00, 121.47it/s, epoch=1000, loss=4801.712036]\n"
     ]
    },
    {
     "data": {
      "text/plain": "<Figure size 640x480 with 1 Axes>",
      "image/png": "[encoded data removed]"
     },
     "metadata": {},
     "output_type": "display_data"
    },
    {
     "name": "stdout",
     "output_type": "stream",
     "text": [
      "num of api: 444\n",
      "oov embed finished\n"
     ]
    }
   ],
   "source": [
    "from torch import nn\n",
    "from matplotlib import pyplot as plt\n",
    "from pathlib2 import Path\n",
    "import torch\n",
    "import numpy as np\n",
    "from preprocess.log_process import files_read_process, logs2dataset\n",
    "from preprocess.oov_process import get_oov_embed, get_prototype_dict, get_embed_mat\n",
    "import pickle\n",
    "\n",
    "print(\"读取文件\")\n",
    "train_files_path = r\"C:\\Users\\sivan\\Downloads\\BugLogList_update (1)\\BugLogList\\交通银行网银向导\\BugLog\\no_repro\"\n",
    "test_files_path = r\"C:\\Users\\sivan\\Downloads\\BugLogList_update (1)\\BugLogList\\交通银行网银向导\\BugLog\\repro\"\n",
    "train_csvs_path = list(Path(train_files_path).glob(\"*.csv\"))\n",
    "test_csvs_path = list(Path(test_files_path).glob(\"*.csv\"))\n",
    "train_apilogs_list = files_read_process(train_csvs_path)\n",
    "test_apilogs_list = files_read_process(test_csvs_path)\n",
    "logs_list = train_apilogs_list + test_apilogs_list\n",
    "print(\"文件处理结束\")\n",
    "\n",
    "print(\"start process oov\")\n",
    "prototype, prototype_dict = get_prototype_dict(apilog_list=logs_list)\n",
    "oov_tensor_dict = get_oov_embed(_prototype=prototype)\n",
    "print(\"num of api:\", len(prototype_dict))\n",
    "print(\"oov embed finished\")\n",
    "\n",
    "\n",
    "def pickle_save(obj, path):\n",
    "    with open(path, 'wb') as f:\n",
    "        pickle.dump(obj, f)\n",
    "\n",
    "\n",
    "def pickle_load(path):\n",
    "    with open(path, 'rb') as f:\n",
    "        obj = pickle.load(f)\n",
    "    return obj\n",
    "\n",
    "\n",
    "pickle_save(prototype_dict, 'prototype_dict.pkl')\n",
    "pickle_save(oov_tensor_dict, 'oov_tensor_dict.pkl')\n",
    "pickle_save(train_apilogs_list, 'train_apilogs_list.pkl')\n",
    "pickle_save(test_apilogs_list, 'test_apilogs_list.pkl')"
   ],
   "metadata": {
    "collapsed": false,
    "ExecuteTime": {
     "end_time": "2023-05-31T03:38:23.758101900Z",
     "start_time": "2023-05-31T03:37:18.913979500Z"
    }
   }
  },
  {
   "cell_type": "code",
   "execution_count": 1,
   "outputs": [
    {
     "name": "stdout",
     "output_type": "stream",
     "text": [
      "处理数据\n"
     ]
    },
    {
     "name": "stderr",
     "output_type": "stream",
     "text": [
      "\n",
      "KeyboardInterrupt\n",
      "\n"
     ]
    }
   ],
   "source": [
    "print(\"处理数据\")\n",
    "from preprocess.log_process import logs2dataset\n",
    "\n",
    "prototype_dict = pickle_load('prototype_dict.pkl')\n",
    "oov_tensor_dict = pickle_load('oov_tensor_dict.pkl')\n",
    "train_apilogs_list = pickle_load('train_apilogs_list.pkl')\n",
    "test_apilogs_list = pickle_load('test_apilogs_list.pkl')\n",
    "train_dataset = logs2dataset(train_apilogs_list, prototype_dict, oov_tensor_dict)\n",
    "test_dataset = logs2dataset(test_apilogs_list, prototype_dict, oov_tensor_dict)\n",
    "# 保存数据\n",
    "pickle_save(train_dataset, 'train_dataset.pkl')\n",
    "pickle_save(test_dataset, 'test_dataset.pkl')\n",
    "print(\"数据处理结束\")"
   ],
   "metadata": {
    "collapsed": false,
    "ExecuteTime": {
     "end_time": "2023-06-01T12:33:26.260863800Z",
     "start_time": "2023-06-01T12:33:22.005267Z"
    }
   }
  },
  {
   "cell_type": "code",
   "execution_count": 1,
   "outputs": [
    {
     "name": "stdout",
     "output_type": "stream",
     "text": [
      "模型训练\n"
     ]
    }
   ],
   "source": [
    "import pickle\n",
    "import torch\n",
    "from torch import nn\n",
    "from matplotlib import pyplot as plt\n",
    "from tqdm import tqdm\n",
    "\n",
    "\n",
    "def predict(model, data_loader, device, K=3):\n",
    "    model.eval()\n",
    "    api_predictions = []\n",
    "    res_predictions = []\n",
    "    api_tar = []\n",
    "    res_tar = []\n",
    "    with torch.no_grad():\n",
    "        for (data, target) in tqdm(data_loader):\n",
    "            data = data.to(device)\n",
    "            api_true, res_true = target[:, 0], target[:, 1]\n",
    "            output_api, output_res = model(data)\n",
    "            topk_values, topk_indices = torch.topk(output_api, k=K, dim=1)\n",
    "            pre_res = output_res.argmax(dim=1)\n",
    "            res_predictions.extend(pre_res.tolist())\n",
    "            api_predictions.extend(topk_indices.tolist())\n",
    "            api_tar.extend(api_true.tolist())\n",
    "            res_tar.extend(res_true.tolist())\n",
    "    res_predictions = [i - 1 for i in res_predictions]\n",
    "    return api_predictions, res_predictions, api_tar, res_tar\n",
    "\n",
    "\n",
    "def only_evaluate(api_predictions, res_predictions, api_tar, res_tar):\n",
    "    api_correct, res_correct = 0, 0\n",
    "    fail_num, ok_num, star_num = 0, 0, 0\n",
    "    n = len(api_predictions)\n",
    "    for i in range(n):\n",
    "        if api_tar[i] in api_predictions[i]:\n",
    "            api_correct += 1\n",
    "        if res_predictions[i] == res_tar[i]:\n",
    "            res_correct += 1\n",
    "            if res_tar[i] == 1:\n",
    "                ok_num += 1\n",
    "            elif res_tar[i] == -1:\n",
    "                fail_num += 1\n",
    "            else:\n",
    "                star_num += 1\n",
    "    pre_ok_num = sum([1 for i in range(n) if res_predictions[i] == 1]) + 1\n",
    "    pre_fail_num = sum([1 for i in range(n) if res_predictions[i] == -1]) + 1\n",
    "    pre_star_num = sum([1 for i in range(n) if res_predictions[i] == 0]) + 1\n",
    "\n",
    "    real_ok_num = sum([1 for i in range(n) if res_tar[i] == 1]) + 1\n",
    "    real_fail_num = sum([1 for i in range(n) if res_tar[i] == -1]) + 1\n",
    "    real_star_num = sum([1 for i in range(n) if res_tar[i] == 0]) + 1\n",
    "    print(\"ok_precision:{}, fail_precision:{}, star_precision:{}\".format(ok_num / pre_ok_num, fail_num / pre_fail_num,\n",
    "                                                                         star_num / pre_star_num))\n",
    "    print(\"ok_recall:{}, fail_recall:{}, star_recall:{}\".format(ok_num / real_ok_num, fail_num / real_fail_num,\n",
    "                                                                star_num / real_star_num))\n",
    "    print(\"pre_ok_num:{}, pre_fail_num:{}, pre_star_num:{}\".format(pre_ok_num, pre_fail_num, pre_star_num))\n",
    "    print(\"real_ok_num:{}, real_fail_num:{}, real_star_num:{}\".format(real_ok_num, real_fail_num, real_star_num))\n",
    "    api_accuracy, res_accuracy = round(100 * api_correct / n, 4), round(100 * res_correct / n, 4)\n",
    "    print(\"api_accuracy:{}, res_accuracy:{}\".format(api_accuracy, res_accuracy))\n",
    "\n",
    "# 加载数据\n",
    "train_dataset = pickle.load(open('train_dataset.pkl', 'rb'))\n",
    "test_dataset = pickle.load(open('test_dataset.pkl', 'rb'))\n",
    "\n",
    "print(\"模型训练\")\n",
    "from model.transformer.trans_model import TransformerEncoder, train, evaluate, get_consistent_abnormal\n",
    "from torch.utils.data import DataLoader\n",
    "from torch import optim\n",
    "\n",
    "# hyperparameters\n",
    "embedding_dim = 15\n",
    "seq_length = 101\n",
    "num_classes = 683\n",
    "hidden_dim = num_classes // 2\n",
    "num_layers = 10\n",
    "batch_size = 100\n",
    "lr = 0.001\n",
    "epochs = 10\n",
    "train_loader = DataLoader(train_dataset, batch_size=batch_size, shuffle=True)\n",
    "test_loader = DataLoader(test_dataset, batch_size=batch_size, shuffle=False)\n",
    "train_loader_not_shuffle = DataLoader(train_dataset, batch_size=batch_size, shuffle=False)\n",
    "\n",
    "# initialize model\n",
    "model = TransformerEncoder(embedding_dim, hidden_dim, num_classes, num_layers, seq_length)\n",
    "device = torch.device(\"cuda\" if torch.cuda.is_available() else \"cpu\")\n",
    "# device = torch.device(\"cpu\")\n",
    "model = model.to(device)\n",
    "# define loss and optimizer\n",
    "\n",
    "api_criterion = nn.CrossEntropyLoss()\n",
    "result_criterion = nn.CrossEntropyLoss()\n",
    "# result采用绝对值误差\n",
    "crtierions = [api_criterion, result_criterion]\n",
    "weights = [0.75, 0.25]\n",
    "optimizer = optim.Adam(model.parameters(), lr=lr)\n"
   ],
   "metadata": {
    "collapsed": false,
    "ExecuteTime": {
     "end_time": "2023-06-01T12:47:07.845217900Z",
     "start_time": "2023-06-01T12:47:02.293099200Z"
    }
   }
  },
  {
   "cell_type": "code",
   "execution_count": 4,
   "outputs": [
    {
     "name": "stdout",
     "output_type": "stream",
     "text": [
      "epoch:1\n"
     ]
    },
    {
     "name": "stderr",
     "output_type": "stream",
     "text": [
      "100%|██████████| 6975/6975 [05:37<00:00, 20.67it/s, loss=0.419, loss_api=0.398, loss_result=0.483] \n"
     ]
    },
    {
     "data": {
      "text/plain": "<Figure size 640x480 with 1 Axes>",
      "image/png": "[encoded data removed]"
     },
     "metadata": {},
     "output_type": "display_data"
    },
    {
     "name": "stderr",
     "output_type": "stream",
     "text": [
      " 90%|████████▉ | 6252/6975 [01:24<00:12, 58.72it/s]"
     ]
    }
   ],
   "source": [
    "epochs = 1\n",
    "for i in range(epochs):\n",
    "    print(\"epoch:{}\".format(i + 1))\n",
    "    train_loss_list = train(model, train_loader, optimizer, crtierions, weights, device)\n",
    "    # loss_list的元素分别是all_loss, api_loss, res_loss\n",
    "    all_loss_list, api_loss_list, res_loss_list = zip(*train_loss_list)\n",
    "    plt.plot(all_loss_list)\n",
    "    plt.plot(api_loss_list)\n",
    "    plt.plot(res_loss_list)\n",
    "    plt.show()\n",
    "    api_predictions, res_predictions, api_tar, res_tar = predict(model, train_loader_not_shuffle, device)\n",
    "    only_evaluate(api_predictions, res_predictions, api_tar, res_tar)"
   ],
   "metadata": {
    "collapsed": false,
    "ExecuteTime": {
     "end_time": "2023-06-01T12:41:32.390861100Z",
     "start_time": "2023-06-01T12:34:19.227684Z"
    }
   }
  },
  {
   "cell_type": "code",
   "execution_count": null,
   "outputs": [],
   "source": [],
   "metadata": {
    "collapsed": false
   }
  },
  {
   "cell_type": "code",
   "execution_count": null,
   "outputs": [],
   "source": [],
   "metadata": {
    "collapsed": false
   }
  },
  {
   "cell_type": "code",
   "execution_count": null,
   "outputs": [],
   "source": [],
   "metadata": {
    "collapsed": false
   }
  },
  {
   "cell_type": "code",
   "execution_count": null,
   "outputs": [],
   "source": [],
   "metadata": {
    "collapsed": false
   }
  },
  {
   "cell_type": "code",
   "execution_count": null,
   "outputs": [],
   "source": [],
   "metadata": {
    "collapsed": false
   }
  },
  {
   "cell_type": "code",
   "execution_count": null,
   "outputs": [],
   "source": [],
   "metadata": {
    "collapsed": false
   }
  },
  {
   "cell_type": "code",
   "execution_count": 9,
   "outputs": [
    {
     "name": "stdout",
     "output_type": "stream",
     "text": [
      "len(new_train_dataset): 32277\n"
     ]
    }
   ],
   "source": [
    "fail_data_index = []\n",
    "ok_data_index = []\n",
    "for i in range(len(res_tar)):\n",
    "    if res_tar[i] == -1:\n",
    "        fail_data_index.append(i)\n",
    "    else:\n",
    "        ok_data_index.append(i)\n",
    "fail_num = len(fail_data_index)\n",
    "# 随机选取fail_num个ok_data_index\n",
    "import random\n",
    "\n",
    "random.shuffle(ok_data_index)\n",
    "ok_data_index = ok_data_index[:fail_num]\n",
    "# 新的数据集ok和fail的比例为1:1\n",
    "new_train_dataset = []\n",
    "for i in range(len(ok_data_index)):\n",
    "    new_train_dataset.append(train_dataset[ok_data_index[i]])\n",
    "    new_train_dataset.append(train_dataset[fail_data_index[i]])\n",
    "new_train_dataloader = DataLoader(new_train_dataset, batch_size=batch_size, shuffle=True)\n",
    "print(\"len(new_train_dataset):\", len(new_train_dataset))"
   ],
   "metadata": {
    "collapsed": false,
    "ExecuteTime": {
     "end_time": "2023-05-31T03:50:25.316766Z",
     "start_time": "2023-05-31T03:50:24.156648200Z"
    }
   }
  },
  {
   "cell_type": "code",
   "execution_count": null,
   "outputs": [],
   "source": [
    "def res_criteria(predictions, tar):\n",
    "    # 统计预测结果中的-1的f1值\n",
    "    n = len(predictions)\n",
    "    tp, fp, fn = 0, 0, 0\n",
    "    for i in range(n):\n",
    "        if predictions[i] == -1 and tar[i] == -1:\n",
    "            tp += 1\n",
    "        elif predictions[i] == -1 and tar[i] != -1:\n",
    "            fp += 1\n",
    "        elif predictions[i] != -1 and tar[i] == -1:\n",
    "            fn += 1\n",
    "    precision = tp / (tp + fp)\n",
    "    recall = tp / (tp + fn)\n",
    "    f1 = 2 * precision * recall / (precision + recall)\n",
    "\n",
    "result_criterion = res_criteria"
   ],
   "metadata": {
    "collapsed": false
   }
  },
  {
   "cell_type": "code",
   "execution_count": 43,
   "outputs": [
    {
     "name": "stdout",
     "output_type": "stream",
     "text": [
      "\n",
      "Epoch: 1\n"
     ]
    },
    {
     "name": "stderr",
     "output_type": "stream",
     "text": [
      "  1%|▏         | 1/69 [00:00<00:25,  2.65it/s]"
     ]
    },
    {
     "name": "stdout",
     "output_type": "stream",
     "text": [
      "False\n",
      "False\n",
      "False\n"
     ]
    },
    {
     "name": "stderr",
     "output_type": "stream",
     "text": [
      "\n"
     ]
    },
    {
     "ename": "TypeError",
     "evalue": "'Tensor' object is not callable",
     "output_type": "error",
     "traceback": [
      "\u001B[1;31m---------------------------------------------------------------------------\u001B[0m",
      "\u001B[1;31mTypeError\u001B[0m                                 Traceback (most recent call last)",
      "Cell \u001B[1;32mIn[43], line 2\u001B[0m\n\u001B[0;32m      1\u001B[0m \u001B[38;5;28;01mfor\u001B[39;00m i \u001B[38;5;129;01min\u001B[39;00m \u001B[38;5;28mrange\u001B[39m(\u001B[38;5;241m3\u001B[39m):\n\u001B[1;32m----> 2\u001B[0m     train_loss_list \u001B[38;5;241m=\u001B[39m \u001B[43mtrain2\u001B[49m\u001B[43m(\u001B[49m\u001B[43mmodel\u001B[49m\u001B[43m,\u001B[49m\u001B[43m \u001B[49m\u001B[43mnew_train_dataloader\u001B[49m\u001B[43m,\u001B[49m\u001B[43m \u001B[49m\u001B[43moptimizer\u001B[49m\u001B[43m,\u001B[49m\u001B[43m \u001B[49m\u001B[43mres_criterion\u001B[49m\u001B[43m,\u001B[49m\u001B[43m \u001B[49m\u001B[38;5;241;43m10\u001B[39;49m\u001B[43m,\u001B[49m\u001B[43m \u001B[49m\u001B[43mdevice\u001B[49m\u001B[43m)\u001B[49m\n\u001B[0;32m      3\u001B[0m     api_predictions, res_predictions, api_tar, res_tar \u001B[38;5;241m=\u001B[39m predict(model, new_train_dataloader, device)\n\u001B[0;32m      4\u001B[0m     only_evaluate(api_predictions, res_predictions, api_tar, res_tar)\n",
      "Cell \u001B[1;32mIn[42], line 41\u001B[0m, in \u001B[0;36mtrain2\u001B[1;34m(model, train_loader, optimizer, res_criterion, epochs, device)\u001B[0m\n\u001B[0;32m     39\u001B[0m \u001B[38;5;28mprint\u001B[39m(target_api\u001B[38;5;241m.\u001B[39mrequires_grad)\n\u001B[0;32m     40\u001B[0m loss_result \u001B[38;5;241m=\u001B[39m res_criterion(output_result\u001B[38;5;241m.\u001B[39mfloat(), target_result\u001B[38;5;241m.\u001B[39mfloat())\n\u001B[1;32m---> 41\u001B[0m \u001B[43mloss_result\u001B[49m\u001B[43m(\u001B[49m\u001B[43mrequries_grad\u001B[49m\u001B[38;5;241;43m=\u001B[39;49m\u001B[38;5;28;43;01mTrue\u001B[39;49;00m\u001B[43m)\u001B[49m\n\u001B[0;32m     42\u001B[0m loss_result\u001B[38;5;241m.\u001B[39mbackward()\n\u001B[0;32m     43\u001B[0m optimizer\u001B[38;5;241m.\u001B[39mstep()\n",
      "\u001B[1;31mTypeError\u001B[0m: 'Tensor' object is not callable"
     ]
    }
   ],
   "source": [
    "for i in range(3):\n",
    "    train_loss_list = train(model, new_train_dataloader, optimizer, res_criterion, 10, device)\n",
    "    api_predictions, res_predictions, api_tar, res_tar = predict(model, new_train_dataloader, device)\n",
    "    only_evaluate(api_predictions, res_predictions, api_tar, res_tar)"
   ],
   "metadata": {
    "collapsed": false,
    "ExecuteTime": {
     "end_time": "2023-05-21T11:31:57.528030600Z",
     "start_time": "2023-05-21T11:31:57.003354600Z"
    }
   }
  },
  {
   "cell_type": "code",
   "execution_count": null,
   "outputs": [],
   "source": [],
   "metadata": {
    "collapsed": false
   }
  },
  {
   "cell_type": "code",
   "execution_count": null,
   "outputs": [],
   "source": [],
   "metadata": {
    "collapsed": false
   }
  },
  {
   "cell_type": "code",
   "execution_count": null,
   "outputs": [],
   "source": [],
   "metadata": {
    "collapsed": false
   }
  },
  {
   "cell_type": "code",
   "execution_count": null,
   "outputs": [],
   "source": [],
   "metadata": {
    "collapsed": false
   }
  },
  {
   "cell_type": "code",
   "execution_count": null,
   "outputs": [],
   "source": [],
   "metadata": {
    "collapsed": false
   }
  },
  {
   "cell_type": "code",
   "execution_count": null,
   "outputs": [],
   "source": [],
   "metadata": {
    "collapsed": false
   }
  },
  {
   "cell_type": "code",
   "execution_count": 10,
   "outputs": [
    {
     "name": "stderr",
     "output_type": "stream",
     "text": [
      "100%|██████████| 45/45 [00:00<00:00, 56.43it/s]"
     ]
    },
    {
     "name": "stdout",
     "output_type": "stream",
     "text": [
      "api_accuracy:2.127659574468085, res_accuracy:75.4413761883205\n",
      "len(api_abnormal): 4324\n",
      "len(result_abnormal): 1085\n",
      "len(result_abnormal_fail): 120\n",
      "len(result_abnormal_fail_continuous): 26\n",
      "len(new_abnormal): 120\n",
      "False\n",
      "False\n"
     ]
    },
    {
     "name": "stderr",
     "output_type": "stream",
     "text": [
      "\n"
     ]
    }
   ],
   "source": [
    "api_predictions, res_predictions, api_tar, res_tar = predict(model, test_loader, device)\n",
    "api_abnormal = []\n",
    "result_abnormal = []\n",
    "new_abnormal = []\n",
    "\n",
    "api_correct, res_correct = 0, 0\n",
    "n = len(api_predictions)\n",
    "for i in range(n):\n",
    "    if api_tar[i] in api_predictions[i]:\n",
    "        api_correct += 1\n",
    "    else:\n",
    "        api_abnormal.append((i, res_tar[i], res_predictions[i], api_tar[i], api_predictions[i]))\n",
    "        if res_tar[i] == -1 and res_predictions[i] == 1:\n",
    "            new_abnormal.append(i)\n",
    "    if res_predictions[i] == res_tar[i]:\n",
    "        res_correct += 1\n",
    "    else:\n",
    "        result_abnormal.append((i, res_tar[i], res_predictions[i]))\n",
    "api_accuracy, res_accuracy = 100 * api_correct / n, 100 * res_correct / n\n",
    "print(\"api_accuracy:{}, res_accuracy:{}\".format(api_accuracy, res_accuracy))\n",
    "result_abnormal_fail = [index for index, res_tar, res_predictions in result_abnormal if\n",
    "                        res_tar == -1 and res_predictions == 1]\n",
    "print(\"len(api_abnormal):\", len(api_abnormal))\n",
    "print(\"len(result_abnormal):\", len(result_abnormal))\n",
    "print(\"len(result_abnormal_fail):\", len(result_abnormal_fail))\n",
    "\n",
    "\n",
    "def get_continuous_data(data, gap=2):\n",
    "    \"\"\"\n",
    "    间隔为2的数据认为是连续数据\n",
    "    :param data:\n",
    "    :return:\n",
    "    \"\"\"\n",
    "    continuous_data = []\n",
    "    left, right = data[0], data[0]\n",
    "    for i in range(1, len(data)):\n",
    "        if data[i] - right > gap:\n",
    "            continuous_data.append((left, right))\n",
    "            left, right = data[i], data[i]\n",
    "        else:\n",
    "            right = data[i]\n",
    "    return continuous_data\n",
    "\n",
    "\n",
    "result_abnormal_fail_continuous = get_continuous_data(new_abnormal)\n",
    "print(\"len(result_abnormal_fail_continuous):\", len(result_abnormal_fail_continuous))\n",
    "print(\"len(new_abnormal):\", len(new_abnormal))\n",
    "print(23558 in result_abnormal_fail)\n",
    "print(23558 in new_abnormal)"
   ],
   "metadata": {
    "collapsed": false,
    "ExecuteTime": {
     "end_time": "2023-05-31T03:50:34.878437600Z",
     "start_time": "2023-05-31T03:50:34.035799100Z"
    }
   }
  },
  {
   "cell_type": "code",
   "execution_count": 11,
   "outputs": [
    {
     "data": {
      "text/plain": "4418"
     },
     "execution_count": 11,
     "metadata": {},
     "output_type": "execute_result"
    }
   ],
   "source": [
    "len(api_predictions)"
   ],
   "metadata": {
    "collapsed": false,
    "ExecuteTime": {
     "end_time": "2023-05-31T03:50:40.809742400Z",
     "start_time": "2023-05-31T03:50:40.777946Z"
    }
   }
  },
  {
   "cell_type": "code",
   "execution_count": 12,
   "outputs": [
    {
     "data": {
      "text/plain": "[(3, 3),\n (7, 7),\n (129, 129),\n (162, 210),\n (368, 372),\n (376, 416),\n (430, 430),\n (557, 559),\n (573, 573),\n (1242, 1242),\n (1579, 1579),\n (1585, 1585),\n (2665, 2665),\n (2858, 2906),\n (3064, 3068),\n (3072, 3104),\n (3108, 3112),\n (3251, 3255),\n (3510, 3510),\n (3865, 3865),\n (3871, 3871),\n (4266, 4266),\n (4284, 4284),\n (4302, 4302),\n (4320, 4320),\n (4338, 4338)]"
     },
     "execution_count": 12,
     "metadata": {},
     "output_type": "execute_result"
    }
   ],
   "source": [
    "result_abnormal_fail_continuous"
   ],
   "metadata": {
    "collapsed": false,
    "ExecuteTime": {
     "end_time": "2023-05-31T03:50:41.427272600Z",
     "start_time": "2023-05-31T03:50:41.408765Z"
    }
   }
  },
  {
   "cell_type": "code",
   "execution_count": null,
   "outputs": [],
   "source": [],
   "metadata": {
    "collapsed": false
   }
  },
  {
   "cell_type": "code",
   "execution_count": null,
   "outputs": [],
   "source": [],
   "metadata": {
    "collapsed": false
   }
  },
  {
   "cell_type": "code",
   "execution_count": null,
   "outputs": [],
   "source": [],
   "metadata": {
    "collapsed": false
   }
  },
  {
   "cell_type": "code",
   "execution_count": null,
   "outputs": [],
   "source": [],
   "metadata": {
    "collapsed": false
   }
  },
  {
   "cell_type": "code",
   "execution_count": null,
   "outputs": [],
   "source": [],
   "metadata": {
    "collapsed": false
   }
  },
  {
   "cell_type": "code",
   "execution_count": null,
   "outputs": [],
   "source": [],
   "metadata": {
    "collapsed": false
   }
  },
  {
   "cell_type": "code",
   "execution_count": null,
   "outputs": [],
   "source": [],
   "metadata": {
    "collapsed": false
   }
  },
  {
   "cell_type": "code",
   "execution_count": null,
   "outputs": [],
   "source": [],
   "metadata": {
    "collapsed": false
   }
  },
  {
   "cell_type": "code",
   "execution_count": null,
   "outputs": [],
   "source": [],
   "metadata": {
    "collapsed": false
   }
  },
  {
   "cell_type": "code",
   "execution_count": null,
   "outputs": [],
   "source": [],
   "metadata": {
    "collapsed": false
   }
  },
  {
   "cell_type": "code",
   "execution_count": null,
   "outputs": [],
   "source": [
    "import numpy as np\n",
    "\n",
    "api_dict = np.load(\"../data/api_dic.npy\", allow_pickle=True).item()\n",
    "model_dim = 15\n",
    "padding_length = 50\n",
    "api_dim = 8\n",
    "import torch\n",
    "\n",
    "# start\n",
    "start_tensor = api_dict[\"[CLS]\"][1]\n",
    "sep_tensor = api_dict[\"[SEP]\"][1]\n",
    "mask_tensor = api_dict[\"[MASK]\"][1]\n",
    "\n",
    "padding_tensor = np.array([0] * (model_dim - api_dim))\n",
    "start_tensor = np.concatenate((start_tensor, padding_tensor))\n",
    "sep_tensor = np.concatenate((sep_tensor, padding_tensor))\n",
    "mask_tensor = np.concatenate((mask_tensor, padding_tensor))\n",
    "# start_matrix 是start_tensor * padding_length\n",
    "start_matrix = np.array([start_tensor] * padding_length)\n",
    "sep_matrix = np.array([sep_tensor] * padding_length)\n",
    "mask_matrix = np.array([mask_tensor] * 1)\n",
    "#转换为tensor\n",
    "start_matrix = torch.from_numpy(start_matrix).float()\n",
    "sep_matrix = torch.from_numpy(sep_matrix).float()\n",
    "mask_matrix = torch.from_numpy(mask_matrix).float()"
   ],
   "metadata": {
    "collapsed": false
   }
  },
  {
   "cell_type": "code",
   "execution_count": null,
   "outputs": [],
   "source": [],
   "metadata": {
    "collapsed": false
   }
  },
  {
   "cell_type": "code",
   "execution_count": null,
   "outputs": [],
   "source": [],
   "metadata": {
    "collapsed": false
   }
  },
  {
   "cell_type": "code",
   "execution_count": null,
   "outputs": [],
   "source": [
    "from pathlib2 import Path\n",
    "import pandas as pd\n",
    "from preprocess import ApiLog\n",
    "\n",
    "path1 = Path(r\"D:\\workspace\\centific\\Test_Data\\LogdiffTest\\difference data\\api2\\runtimeAPI2.csv\")\n",
    "path2 = Path(r\"D:\\workspace\\centific\\Test_Data\\LogdiffTest\\difference data\\api1\\runtimeAPI1.csv\")\n",
    "apilog1 = ApiLog(path1)\n",
    "apilog2 = ApiLog(path2)\n",
    "apilog1.df"
   ],
   "metadata": {
    "collapsed": false
   }
  },
  {
   "cell_type": "markdown",
   "source": [
    "# oov 问题的解决"
   ],
   "metadata": {
    "collapsed": false
   }
  },
  {
   "cell_type": "code",
   "execution_count": null,
   "outputs": [],
   "source": [
    "#读取apiFunction，把不属于apiFunction的函数展示出来\n",
    "apifunction = pd.read_csv(\"../data/apiFunList.csv\")\n",
    "apifun_list = apifunction[\"ApiFunName\"].to_list()"
   ],
   "metadata": {
    "collapsed": false
   }
  },
  {
   "cell_type": "code",
   "execution_count": null,
   "outputs": [],
   "source": [
    "from collections import Counter\n",
    "from collections import defaultdict\n",
    "\n",
    "prototype = apilog1.df.Prototype.to_list()\n",
    "prototype.extend(apilog2.df.Prototype.to_list())\n",
    "\n",
    "\n",
    "def get_out_api_dic(prototype: list):\n",
    "    prototype_cnt = Counter(prototype)\n",
    "    # 用于记录转换后的api的出现次数\n",
    "    out_cnt = Counter()\n",
    "    # 用于记录转换后的api和原始api的对应关系\n",
    "    out_api_dict = defaultdict(list)\n",
    "\n",
    "    for k, v in prototype_cnt.items():\n",
    "        if k not in apifun_list:\n",
    "            out_cnt[str(k).lower()] = v\n",
    "            out_api_dict[str(k).lower()] = [k]\n",
    "    return out_cnt, out_api_dict\n",
    "\n",
    "\n",
    "out_cnt, out_api_dict = get_out_api_dic(prototype)"
   ],
   "metadata": {
    "collapsed": false
   }
  },
  {
   "cell_type": "code",
   "execution_count": null,
   "outputs": [],
   "source": [
    "import re\n",
    "\n",
    "\n",
    "def out_api_dict_merge(out_api_dict: dict, out_cnt: dict):\n",
    "    for k in list(out_cnt.keys()):\n",
    "        # 将非字母和数字的字符替换成空格\n",
    "        tmp = re.sub(r\"[^a-zA-Z0-9]+\", \" \", k)\n",
    "        # 如果是连续的空格，则替换成一个空格\n",
    "        tmp = re.sub(r\"\\s+\", \" \", tmp)\n",
    "        if tmp != k:\n",
    "            out_api_dict[tmp] += out_api_dict.pop(k)\n",
    "            out_cnt[tmp] = out_cnt.pop(k)\n",
    "    # 把k为空的项转换成unknown\n",
    "    if \"\" in out_cnt:\n",
    "        out_cnt[\"unknown\"] += out_cnt.pop(\"\")\n",
    "        out_api_dict[\"unknown\"] += out_api_dict.pop(\"\")\n",
    "    if \" \" in out_cnt:\n",
    "        out_cnt[\"unknown\"] += out_cnt.pop(\" \")\n",
    "        out_api_dict[\"unknown\"] += out_api_dict.pop(\" \")\n",
    "    return out_cnt, out_api_dict\n",
    "\n",
    "\n",
    "out_cnt, out_api_dict = out_api_dict_merge(out_api_dict, out_cnt)\n",
    "out_list = sorted(out_cnt.items(), key=lambda x: x[1], reverse=True)\n",
    "api_list = list(zip(*out_list))[0]\n",
    "# 得到原始api和转换后的api的对应关系\n",
    "api_dict = {i: k for k, v in out_api_dict.items() for i in v}"
   ],
   "metadata": {
    "collapsed": false
   }
  },
  {
   "cell_type": "code",
   "execution_count": null,
   "outputs": [],
   "source": [
    "len(api_dict), len(out_api_dict), len(out_cnt)"
   ],
   "metadata": {
    "collapsed": false
   }
  },
  {
   "cell_type": "code",
   "execution_count": null,
   "outputs": [],
   "source": [
    "from transformers import BertTokenizer, BertModel\n",
    "from setting.settings import model_name, tokenizer_name\n",
    "from embed.apivocab_embed import get_encoded_api\n",
    "\n",
    "tokenizer = BertTokenizer.from_pretrained(tokenizer_name)\n",
    "model = BertModel.from_pretrained(model_name)\n",
    "api_out_list = get_encoded_api(tokenizer, api_list)"
   ],
   "metadata": {
    "collapsed": false
   }
  },
  {
   "cell_type": "code",
   "execution_count": null,
   "outputs": [],
   "source": [
    "len(api_out_list)"
   ],
   "metadata": {
    "collapsed": false
   }
  },
  {
   "cell_type": "code",
   "execution_count": null,
   "outputs": [],
   "source": [
    "import torch\n",
    "import numpy as np\n",
    "from embed.apivocab_embed import get_api_list_embed\n",
    "\n",
    "device = torch.device(\"cuda:0\" if torch.cuda.is_available() else \"cpu\")\n",
    "api_embed_array = get_api_list_embed(model, api_out_list, device)"
   ],
   "metadata": {
    "collapsed": false
   }
  },
  {
   "cell_type": "code",
   "execution_count": null,
   "outputs": [],
   "source": [
    "from model.ae.ae import AutoEncoder, train\n",
    "from torch import optim\n",
    "from torch.utils.data import DataLoader, TensorDataset\n",
    "import torch.nn as nn"
   ],
   "metadata": {
    "collapsed": false
   }
  },
  {
   "cell_type": "code",
   "execution_count": null,
   "outputs": [],
   "source": [
    "\n",
    "data = torch.from_numpy(api_embed_array).float()\n",
    "# 定义超参数\n",
    "num_epochs = 1000\n",
    "batch_size = 64\n",
    "lr = 0.001\n",
    "hidden_size = [512, 256, 128, 64, 32, 16, 8]\n",
    "input_dim = output_dim = data.shape[1]\n",
    "\n",
    "# 定义模型、优化器和损失函数\n",
    "model = AutoEncoder(input_dim, hidden_size, output_dim)\n",
    "optimizer = optim.Adam(model.parameters(), lr=lr)\n",
    "criterion = nn.MSELoss(reduction='sum')\n",
    "\n",
    "device = torch.device(\"cuda\" if torch.cuda.is_available() else \"cpu\")\n",
    "print(f\"Using {device} device\")\n",
    "model = model.to(device)\n",
    "data = data.to(device)\n",
    "\n",
    "# 定义数据加载器\n",
    "dataset = TensorDataset(data)\n",
    "dataloader = DataLoader(dataset, batch_size=batch_size, shuffle=True)"
   ],
   "metadata": {
    "collapsed": false
   }
  },
  {
   "cell_type": "code",
   "execution_count": null,
   "outputs": [],
   "source": [
    "# 训练模型\n",
    "loss_list = train(model, optimizer, criterion, dataloader, num_epochs)"
   ],
   "metadata": {
    "collapsed": false
   }
  },
  {
   "cell_type": "code",
   "execution_count": null,
   "outputs": [],
   "source": [
    "import matplotlib.pyplot as plt\n",
    "\n",
    "# 展示loss曲线\n",
    "plt.plot(loss_list)\n",
    "plt.show()"
   ],
   "metadata": {
    "collapsed": false
   }
  },
  {
   "cell_type": "code",
   "execution_count": null,
   "outputs": [],
   "source": [
    "# 保存降维后的数据\n",
    "encoder = model.encoder\n",
    "encoded = encoder(data).cpu().detach().numpy()\n",
    "oov_tensor_dict = {}\n",
    "for k, v in api_dict.items():\n",
    "    #k是原始api，v是转换后的api\n",
    "    index = out_list.index((v, out_cnt[v]))\n",
    "    oov_tensor_dict[k.lower()] = encoded[index]"
   ],
   "metadata": {
    "collapsed": false
   }
  },
  {
   "cell_type": "markdown",
   "source": [
    "\n",
    "# 数据预处理"
   ],
   "metadata": {
    "collapsed": false
   }
  },
  {
   "cell_type": "code",
   "execution_count": null,
   "outputs": [],
   "source": [
    "apilog1.df.c"
   ],
   "metadata": {
    "collapsed": false
   }
  },
  {
   "cell_type": "code",
   "execution_count": null,
   "outputs": [],
   "source": [],
   "metadata": {
    "collapsed": false
   }
  },
  {
   "cell_type": "code",
   "execution_count": null,
   "outputs": [],
   "source": [
    "apilog1.df.data_factorize()\n",
    "apilog2.df.data_factorize()\n",
    "apilog1.df"
   ],
   "metadata": {
    "collapsed": false
   }
  },
  {
   "cell_type": "code",
   "execution_count": null,
   "outputs": [],
   "source": [],
   "metadata": {
    "collapsed": false
   }
  },
  {
   "cell_type": "code",
   "execution_count": null,
   "outputs": [],
   "source": [
    "\n",
    "\n",
    "\n",
    "\n",
    "\n",
    "\n"
   ],
   "metadata": {
    "collapsed": false
   }
  },
  {
   "cell_type": "code",
   "execution_count": null,
   "outputs": [],
   "source": [],
   "metadata": {
    "collapsed": false
   }
  },
  {
   "cell_type": "code",
   "execution_count": null,
   "outputs": [],
   "source": [
    "# 将prototype编码，得到编码字典\n",
    "prototype_ids, prototype_unique = pd.factorize(df[\"Prototype\"])\n",
    "prototype_dict = dict(zip(prototype_unique, prototype_ids))"
   ],
   "metadata": {
    "collapsed": false
   }
  },
  {
   "cell_type": "code",
   "execution_count": null,
   "outputs": [],
   "source": [
    "# 得到positional embedding\n",
    "from log_model.transformerdata import get_position_encoding\n",
    "\n",
    "pe = get_position_encoding(df[\"difftime\"].tolist(), 8)"
   ],
   "metadata": {
    "collapsed": false
   }
  },
  {
   "cell_type": "code",
   "execution_count": null,
   "outputs": [],
   "source": [
    "label1 = df[\"Result\"].tolist()\n",
    "label2 = prototype_ids.tolist()"
   ],
   "metadata": {
    "collapsed": false
   }
  },
  {
   "cell_type": "code",
   "execution_count": null,
   "outputs": [],
   "source": [
    "api_embed_dic = np.load(\"../data/api_dic.npy\", allow_pickle=True).item()"
   ],
   "metadata": {
    "collapsed": false
   }
  },
  {
   "cell_type": "code",
   "execution_count": null,
   "outputs": [],
   "source": [
    "prototype = df[\"Prototype\"].tolist()\n",
    "\n",
    "embed_mat = []\n",
    "for i in range(len(prototype)):\n",
    "    api = prototype[i]\n",
    "    if api in api_embed_dic:\n",
    "        embed = api_embed_dic[api][1]\n",
    "    else:\n",
    "        embed = oov_tensor_dict[api.lower()]\n",
    "    embed += pe[i]\n",
    "    embed_mat.append(embed)\n",
    "embed_mat = np.array(embed_mat, dtype=float)\n",
    "embed_mat = torch.from_numpy(embed_mat)\n",
    "embed_mat.shape"
   ],
   "metadata": {
    "collapsed": false
   }
  },
  {
   "cell_type": "code",
   "execution_count": null,
   "outputs": [],
   "source": [
    "df.drop([\"merge\", \"Prototype\", \"difftime\", \"Sequence\"], axis=1, inplace=True)"
   ],
   "metadata": {
    "collapsed": false
   }
  },
  {
   "cell_type": "code",
   "execution_count": null,
   "outputs": [],
   "source": [
    "df"
   ],
   "metadata": {
    "collapsed": false
   }
  },
  {
   "cell_type": "code",
   "execution_count": null,
   "outputs": [],
   "source": [
    "\n",
    "# 每行数据转化为tensor\n",
    "df_tensor = torch.from_numpy(df.values).float()"
   ],
   "metadata": {
    "collapsed": false
   }
  },
  {
   "cell_type": "code",
   "execution_count": null,
   "outputs": [],
   "source": [
    "df_tensor.shape"
   ],
   "metadata": {
    "collapsed": false
   }
  },
  {
   "cell_type": "code",
   "execution_count": null,
   "outputs": [],
   "source": [
    "# 拼接数据\n",
    "df_tensor = torch.cat((df_tensor, embed_mat), dim=1)"
   ],
   "metadata": {
    "collapsed": false
   }
  },
  {
   "cell_type": "code",
   "execution_count": null,
   "outputs": [],
   "source": [
    "df_tensor.shape"
   ],
   "metadata": {
    "collapsed": false
   }
  },
  {
   "cell_type": "code",
   "execution_count": null,
   "outputs": [],
   "source": [
    "result_class_num = len(set(label1))\n",
    "prototype_class_num = len(set(label2))\n",
    "label2 = np.array(label2)"
   ],
   "metadata": {
    "collapsed": false
   }
  },
  {
   "cell_type": "code",
   "execution_count": null,
   "outputs": [],
   "source": [
    "from torch.utils.data import Dataset\n",
    "\n",
    "\n",
    "class ContextDataset(Dataset):\n",
    "    def __init__(self, data, tar, padding_length=50, window_size=100, stride=1):\n",
    "        self.data = data\n",
    "        self.tar = tar\n",
    "        self.padding_length = padding_length\n",
    "        self.window_size = window_size\n",
    "        self.stride = stride\n",
    "\n",
    "    def __getitem__(self, index):\n",
    "        assert index < len(self)\n",
    "        return torch.cat((self.data[index: index + self.padding_length],\n",
    "                          self.data[index + self.padding_length: index + 2 * self.padding_length]), dim=0), \\\n",
    "            self.tar[index + self.padding_length]\n",
    "\n",
    "    def __len__(self):\n",
    "        # len(self.data) - 2 * self.padding_length 为去掉padding后的长度，即原始数据长度\n",
    "        # 卷积后的数据长度为 H = (L - W + 2P) / S + 1\n",
    "        return (len(self.data) - self.window_size) // self.stride + 1\n",
    "\n",
    "    def __add__(self, other):\n",
    "        new_data = torch.cat((self.data, other.data), dim=0)\n",
    "        new_tar = torch.cat((self.tar, other.tar), dim=0)\n",
    "        return ContextDataset(new_data, new_tar, self.padding_length, self.window_size, self.stride)\n",
    "\n",
    "\n",
    "df_tensor = df_tensor.to(torch.float)\n",
    "dataset = ContextDataset(df_tensor, torch.from_numpy(label2).long())"
   ],
   "metadata": {
    "collapsed": false
   }
  },
  {
   "cell_type": "code",
   "execution_count": null,
   "outputs": [],
   "source": [
    "class TransformerEncoder(nn.Module):\n",
    "    def __init__(self, embedding_dim, hidden_dim, num_classes, num_layers, seq_length):\n",
    "        super(TransformerEncoder, self).__init__()\n",
    "        self.transformer_encoder = nn.TransformerEncoder(\n",
    "            # input: (seq_len, batch_size, embedding_dim)\n",
    "            nn.TransformerEncoderLayer(embedding_dim, nhead=3, dim_feedforward=hidden_dim),\n",
    "            num_layers=num_layers\n",
    "        )\n",
    "        self.fc = nn.Linear(seq_length, hidden_dim)\n",
    "        self.out = nn.Linear(hidden_dim, num_classes)\n",
    "\n",
    "    def forward(self, x):\n",
    "        # x: (batch_size, seq_len, embedding_dim)\n",
    "        x = x.permute(1, 0, 2)  # (seq_len, batch_size, embedding_dim)\n",
    "        x = self.transformer_encoder(x)  # x: (seq_len, batch_size, embedding_dim)\n",
    "        x = x.permute(1, 0, 2)  # (batch_size, seq_len, embedding_dim)\n",
    "        x = x.mean(dim=2)  # (batch_size, seq_len)\n",
    "        x = self.fc(x)  # (batch_size, hidden_dim)\n",
    "        x = nn.ReLU()(x)\n",
    "        x = self.out(x)  # (batch_size, num_classes)\n",
    "        return x\n",
    "\n",
    "\n",
    "def train(model, train_loader, optimizer, criterion, epochs, device):\n",
    "    model.train()\n",
    "    loss_list = []\n",
    "    for epoch in range(epochs):\n",
    "        print('Epoch: {}'.format(epoch + 1))\n",
    "        with tqdm(total=len(train_loader)) as pbar:\n",
    "            for batch_idx, (data, target) in enumerate(train_loader):\n",
    "                data, target = data.to(device), target.to(device)\n",
    "                optimizer.zero_grad()\n",
    "                output = model(data)\n",
    "                loss = criterion(output, target)\n",
    "                loss.backward()\n",
    "                optimizer.step()\n",
    "                loss_list.append(loss.item())\n",
    "                pbar.set_postfix({'loss': '{:.6f}'.format(loss.item())})\n",
    "                pbar.update(1)\n",
    "    return loss_list"
   ],
   "metadata": {
    "collapsed": false
   }
  },
  {
   "cell_type": "code",
   "execution_count": null,
   "outputs": [],
   "source": [
    "# hyperparameters\n",
    "embedding_dim = 15\n",
    "seq_length = 100\n",
    "num_classes = prototype_class_num\n",
    "hidden_dim = num_classes // 2\n",
    "num_layers = 3\n",
    "batch_size = 128\n",
    "lr = 0.001\n",
    "epochs = 1\n",
    "loader = DataLoader(dataset, batch_size=batch_size, shuffle=True)"
   ],
   "metadata": {
    "collapsed": false
   }
  },
  {
   "cell_type": "code",
   "execution_count": null,
   "outputs": [],
   "source": [
    "# initialize model\n",
    "model = TransformerEncoder(embedding_dim, hidden_dim, num_classes, num_layers, seq_length)\n",
    "device = torch.device(\"cuda\" if torch.cuda.is_available() else \"cpu\")\n",
    "device = torch.device(\"cpu\")\n",
    "model = model.to(device)\n",
    "# define loss and optimizer\n",
    "criterion = nn.CrossEntropyLoss()\n",
    "optimizer = optim.Adam(model.parameters(), lr=lr)"
   ],
   "metadata": {
    "collapsed": false
   }
  },
  {
   "cell_type": "code",
   "execution_count": null,
   "outputs": [],
   "source": [
    "loss_list = train(model, loader, optimizer, criterion, epochs, device)"
   ],
   "metadata": {
    "collapsed": false
   }
  },
  {
   "cell_type": "code",
   "execution_count": null,
   "outputs": [],
   "source": [
    "loss_list[0]"
   ],
   "metadata": {
    "collapsed": false
   }
  },
  {
   "cell_type": "code",
   "execution_count": null,
   "outputs": [],
   "source": [
    "plt.plot(loss_list)\n",
    "plt.show()"
   ],
   "metadata": {
    "collapsed": false
   }
  },
  {
   "cell_type": "code",
   "execution_count": null,
   "outputs": [],
   "source": [
    "def predict(model, data_loader, device, K=3):\n",
    "    model.eval()\n",
    "    predictions = []\n",
    "    tar = []\n",
    "    with torch.no_grad():\n",
    "        for (data, target) in tqdm(data_loader):\n",
    "            data = data.to(device)\n",
    "            output = model(data)\n",
    "            topk_values, topk_indices = torch.topk(output, k=K, dim=1)\n",
    "            predictions.extend(topk_indices.tolist())\n",
    "            tar.extend(target.tolist())\n",
    "    return predictions, tar\n",
    "\n",
    "\n",
    "def evaluate(y_true, y_pred):\n",
    "    abnormal = []\n",
    "    correct = 0\n",
    "    for i in range(len(y_true)):\n",
    "        if y_true[i] in y_pred[i]:\n",
    "            correct += 1\n",
    "        else:\n",
    "            abnormal.append((i, y_true[i], y_pred[i]))\n",
    "    accuracy = 100 * correct / len(y_true)\n",
    "    return accuracy, abnormal\n",
    "\n",
    "\n",
    "print(\"K=1\")\n",
    "predictions, y_true = predict(model, loader, device, K=1)\n",
    "accuracy, abnormal = evaluate(y_true, predictions)\n",
    "print(\"accuracy: {:.2f}%\".format(accuracy))"
   ],
   "metadata": {
    "collapsed": false
   }
  },
  {
   "cell_type": "code",
   "execution_count": null,
   "outputs": [],
   "source": [
    "len(abnormal)"
   ],
   "metadata": {
    "collapsed": false
   }
  },
  {
   "cell_type": "code",
   "execution_count": null,
   "outputs": [],
   "source": [
    "abnormal[8500:]"
   ],
   "metadata": {
    "collapsed": false
   }
  },
  {
   "cell_type": "code",
   "execution_count": null,
   "outputs": [],
   "source": [
    "from pathlib2 import Path\n",
    "\n",
    "data_path = r\"C:\\Users\\sivan\\Downloads\\LogdiffTest\\difference data\\runtime api1\"\n",
    "data_path = Path(data_path)\n",
    "dataset = MyDataset(data_path, padding_length=50, stride=1)\n",
    "loader = DataLoader(dataset.data, batch_size=128, shuffle=False)"
   ],
   "metadata": {
    "collapsed": false
   }
  }
 ],
 "metadata": {
  "kernelspec": {
   "display_name": "Python 3",
   "language": "python",
   "name": "python3"
  },
  "language_info": {
   "codemirror_mode": {
    "name": "ipython",
    "version": 2
   },
   "file_extension": ".py",
   "mimetype": "text/x-python",
   "name": "python",
   "nbconvert_exporter": "python",
   "pygments_lexer": "ipython2",
   "version": "2.7.6"
  }
 },
 "nbformat": 4,
 "nbformat_minor": 0
}
