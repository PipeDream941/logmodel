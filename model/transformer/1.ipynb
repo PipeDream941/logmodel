{
 "cells": [
  {
   "cell_type": "code",
   "execution_count": 2,
   "metadata": {
    "collapsed": true,
    "ExecuteTime": {
     "start_time": "2023-04-19T14:45:30.546198Z",
     "end_time": "2023-04-19T14:45:30.562478Z"
    }
   },
   "outputs": [],
   "source": [
    "import torch\n",
    "import torch.nn as nn\n",
    "import torch.optim as optim\n",
    "from torch.utils.data import DataLoader\n",
    "\n",
    "from setting import *\n",
    "from prehandle.Dataset import MyDataset\n",
    "from tqdm import tqdm\n"
   ]
  },
  {
   "cell_type": "code",
   "execution_count": 3,
   "outputs": [],
   "source": [
    "# from pathlib2 import Path\n",
    "# data_path = r\"C:\\Users\\sivan\\Downloads\\LogdiffTest\\difference data\\runtimeapi2\"\n",
    "# data_path = Path(data_path)\n",
    "# dataset = MyDataset(data_path, padding_length=50,stride=1)\n",
    "# import pickle\n",
    "# with open('dataset.pkl', 'wb') as f:\n",
    "#     pickle.dump(dataset, f)"
   ],
   "metadata": {
    "collapsed": false,
    "ExecuteTime": {
     "start_time": "2023-04-19T14:45:30.564483Z",
     "end_time": "2023-04-19T14:45:30.585591Z"
    }
   }
  },
  {
   "cell_type": "code",
   "execution_count": 4,
   "outputs": [
    {
     "data": {
      "text/plain": "15940"
     },
     "execution_count": 4,
     "metadata": {},
     "output_type": "execute_result"
    }
   ],
   "source": [
    "import pickle\n",
    "dataset = pickle.load(open('dataset.pkl', 'rb'))\n",
    "dataset.vocab_size"
   ],
   "metadata": {
    "collapsed": false,
    "ExecuteTime": {
     "start_time": "2023-04-19T14:45:30.580043Z",
     "end_time": "2023-04-19T14:45:30.640026Z"
    }
   }
  },
  {
   "cell_type": "code",
   "execution_count": 5,
   "outputs": [],
   "source": [
    "class TransformerEncoder(nn.Module):\n",
    "    def __init__(self, embedding_dim, hidden_dim, num_classes, num_layers, seq_length):\n",
    "        super(TransformerEncoder, self).__init__()\n",
    "        self.transformer_encoder = nn.TransformerEncoder(\n",
    "            # input: (seq_len, batch_size, embedding_dim)\n",
    "            nn.TransformerEncoderLayer(embedding_dim, nhead=8, dim_feedforward=hidden_dim),\n",
    "            num_layers=num_layers\n",
    "        )\n",
    "        self.fc = nn.Linear(seq_length, hidden_dim)\n",
    "        self.out = nn.Linear(hidden_dim, num_classes)\n",
    "\n",
    "    def forward(self, x):\n",
    "        # x: (batch_size, seq_len, embedding_dim)\n",
    "        x = x.permute(1, 0, 2)  # (seq_len, batch_size, embedding_dim)\n",
    "        x = self.transformer_encoder(x)# x: (seq_len, batch_size, embedding_dim)\n",
    "        x = x.permute(1, 0, 2)  # (batch_size, seq_len, embedding_dim)\n",
    "        x = x.mean(dim=2) # (batch_size, seq_len)\n",
    "        x = self.fc(x) # (batch_size, hidden_dim)\n",
    "        x = nn.ReLU()(x)\n",
    "        x = self.out(x) # (batch_size, num_classes)\n",
    "        return x"
   ],
   "metadata": {
    "collapsed": false,
    "ExecuteTime": {
     "start_time": "2023-04-19T14:45:30.627483Z",
     "end_time": "2023-04-19T14:45:30.640026Z"
    }
   }
  },
  {
   "cell_type": "code",
   "execution_count": 5,
   "outputs": [],
   "source": [],
   "metadata": {
    "collapsed": false,
    "ExecuteTime": {
     "start_time": "2023-04-19T14:45:30.640026Z",
     "end_time": "2023-04-19T14:45:30.674112Z"
    }
   }
  },
  {
   "cell_type": "code",
   "execution_count": 6,
   "outputs": [],
   "source": [
    "def train(model, train_loader, optimizer, criterion,epochs,device):\n",
    "    model.train()\n",
    "    loss_list = []\n",
    "    for epoch in range(epochs):\n",
    "        print('Epoch: {}'.format(epoch + 1))\n",
    "        with tqdm(total=len(train_loader)) as pbar:\n",
    "            for batch_idx, (data, target) in enumerate(train_loader):\n",
    "                data, target = data.to(device), target.to(device)\n",
    "                optimizer.zero_grad()\n",
    "                output = model(data)\n",
    "                loss = criterion(output, target)\n",
    "                loss.backward()\n",
    "                optimizer.step()\n",
    "                loss_list.append(loss.item())\n",
    "                pbar.set_postfix({'loss': '{:.6f}'.format(loss.item())})\n",
    "                pbar.update(1)\n",
    "    return loss_list"
   ],
   "metadata": {
    "collapsed": false,
    "ExecuteTime": {
     "start_time": "2023-04-19T14:45:30.669400Z",
     "end_time": "2023-04-19T14:45:30.674112Z"
    }
   }
  },
  {
   "cell_type": "code",
   "execution_count": 83,
   "outputs": [],
   "source": [
    "# hyperparameters\n",
    "embedding_dim = dataset.model_dim\n",
    "seq_length = dataset.padding_length * 2\n",
    "num_classes = dataset.vocab_size\n",
    "hidden_dim = num_classes // 2\n",
    "num_layers = 3\n",
    "batch_size = 128\n",
    "lr = 0.001\n",
    "epochs = 1\n",
    "loader = DataLoader(dataset.data, batch_size=batch_size, shuffle=True)"
   ],
   "metadata": {
    "collapsed": false,
    "ExecuteTime": {
     "start_time": "2023-04-19T21:39:51.203289Z",
     "end_time": "2023-04-19T21:39:51.228525Z"
    }
   }
  },
  {
   "cell_type": "code",
   "execution_count": 8,
   "outputs": [],
   "source": [
    "# initialize model\n",
    "model = TransformerEncoder(embedding_dim, hidden_dim, num_classes, num_layers, seq_length)\n",
    "device = torch.device(\"cuda\" if torch.cuda.is_available() else \"cpu\")\n",
    "# device = torch.device(\"cpu\")\n",
    "model.to(device)\n",
    "# define loss and optimizer\n",
    "criterion = nn.CrossEntropyLoss()\n",
    "optimizer = optim.Adam(model.parameters(), lr=lr)"
   ],
   "metadata": {
    "collapsed": false,
    "ExecuteTime": {
     "start_time": "2023-04-19T14:45:30.686778Z",
     "end_time": "2023-04-19T14:45:31.422299Z"
    }
   }
  },
  {
   "cell_type": "code",
   "execution_count": 9,
   "outputs": [
    {
     "name": "stdout",
     "output_type": "stream",
     "text": [
      "Epoch: 1\n"
     ]
    },
    {
     "name": "stderr",
     "output_type": "stream",
     "text": [
      "100%|██████████| 863/863 [02:28<00:00,  5.80it/s, loss=0.359982]\n"
     ]
    }
   ],
   "source": [
    "loss_list = train(model, loader, optimizer, criterion, epochs, device)"
   ],
   "metadata": {
    "collapsed": false,
    "ExecuteTime": {
     "start_time": "2023-04-19T14:45:31.426302Z",
     "end_time": "2023-04-19T14:48:00.326934Z"
    }
   }
  },
  {
   "cell_type": "code",
   "execution_count": 11,
   "outputs": [
    {
     "data": {
      "text/plain": "<Figure size 640x480 with 1 Axes>",
      "image/png": "[encoded data removed]"
     },
     "metadata": {},
     "output_type": "display_data"
    }
   ],
   "source": [
    "import matplotlib.pyplot as plt\n",
    "plt.plot(loss_list)\n",
    "plt.show()"
   ],
   "metadata": {
    "collapsed": false,
    "ExecuteTime": {
     "start_time": "2023-04-19T14:55:58.755773Z",
     "end_time": "2023-04-19T14:56:01.653139Z"
    }
   }
  },
  {
   "cell_type": "code",
   "execution_count": 89,
   "outputs": [],
   "source": [
    "def predict(model,data_loader,device,K=3):\n",
    "    model.eval()\n",
    "    predictions = []\n",
    "    tar = []\n",
    "    with torch.no_grad():\n",
    "        for (data, target) in tqdm(data_loader):\n",
    "            data = data.to(device)\n",
    "            output = model(data)\n",
    "            topk_values, topk_indices = torch.topk(output, k=K, dim=1)\n",
    "            predictions.extend(topk_indices.tolist())\n",
    "            tar.extend(target.tolist())\n",
    "    return predictions, tar\n",
    "\n",
    "def evaluate(y_true,y_pred):\n",
    "    abnormal = []\n",
    "    correct = 0\n",
    "    for i in range(len(y_true)):\n",
    "        if y_true[i] in y_pred[i]:\n",
    "            correct += 1\n",
    "        else:\n",
    "            abnormal.append((i, y_true[i], y_pred[i]))\n",
    "    accuracy = 100 * correct / len(y_true)\n",
    "    return accuracy, abnormal"
   ],
   "metadata": {
    "collapsed": false,
    "ExecuteTime": {
     "start_time": "2023-04-19T21:51:08.829419Z",
     "end_time": "2023-04-19T21:51:08.884661Z"
    }
   }
  },
  {
   "cell_type": "code",
   "execution_count": 85,
   "outputs": [
    {
     "name": "stdout",
     "output_type": "stream",
     "text": [
      "K=1\n"
     ]
    },
    {
     "name": "stderr",
     "output_type": "stream",
     "text": [
      "100%|██████████| 863/863 [00:35<00:00, 24.12it/s]\n"
     ]
    },
    {
     "name": "stdout",
     "output_type": "stream",
     "text": [
      "accuracy: 85.67%\n",
      "K=2\n"
     ]
    },
    {
     "name": "stderr",
     "output_type": "stream",
     "text": [
      "100%|██████████| 863/863 [00:35<00:00, 24.20it/s]\n"
     ]
    },
    {
     "name": "stdout",
     "output_type": "stream",
     "text": [
      "accuracy: 94.37%\n",
      "K=3\n"
     ]
    },
    {
     "name": "stderr",
     "output_type": "stream",
     "text": [
      "100%|██████████| 863/863 [00:35<00:00, 24.17it/s]"
     ]
    },
    {
     "name": "stdout",
     "output_type": "stream",
     "text": [
      "accuracy: 96.52%\n"
     ]
    },
    {
     "name": "stderr",
     "output_type": "stream",
     "text": [
      "\n"
     ]
    }
   ],
   "source": [
    "print(\"K=1\")\n",
    "predictions, y_true = predict(model,loader,device,K=1)\n",
    "accuracy, abnormal = evaluate(y_true, predictions)\n",
    "print(\"accuracy: {:.2f}%\".format(accuracy))\n",
    "\n",
    "print(\"K=2\")\n",
    "predictions, y_true = predict(model,loader,device,K=2)\n",
    "accuracy, abnormal = evaluate(y_true, predictions)\n",
    "print(\"accuracy: {:.2f}%\".format(accuracy))\n",
    "\n",
    "print(\"K=3\")\n",
    "predictions, y_true = predict(model,loader,device,K=3)\n",
    "accuracy, abnormal = evaluate(y_true, predictions)\n",
    "print(\"accuracy: {:.2f}%\".format(accuracy))"
   ],
   "metadata": {
    "collapsed": false,
    "ExecuteTime": {
     "start_time": "2023-04-19T21:45:18.666402Z",
     "end_time": "2023-04-19T21:47:05.890648Z"
    }
   }
  },
  {
   "cell_type": "code",
   "execution_count": 90,
   "outputs": [
    {
     "name": "stderr",
     "output_type": "stream",
     "text": [
      "100%|██████████| 863/863 [00:35<00:00, 23.99it/s]\n"
     ]
    }
   ],
   "source": [
    "loader = DataLoader(dataset.data, batch_size=128, shuffle=False)\n",
    "predictions, y_true = predict(model,loader,device,K=2)\n",
    "accuracy, abnormal = evaluate(y_true, predictions)"
   ],
   "metadata": {
    "collapsed": false,
    "ExecuteTime": {
     "start_time": "2023-04-19T21:51:11.700397Z",
     "end_time": "2023-04-19T21:51:47.692375Z"
    }
   }
  },
  {
   "cell_type": "code",
   "execution_count": 95,
   "outputs": [
    {
     "data": {
      "text/plain": "[(0, 76),\n (118, 119),\n (120, 125),\n (126, 127),\n (128, 129),\n (130, 131),\n (136, 137),\n (138, 144),\n (153, 220),\n (265, 270),\n (271, 306),\n (307, 369),\n (370, 408),\n (409, 411),\n (412, 415),\n (417, 418),\n (420, 423),\n (448, 456),\n (466, 467),\n (3857, 3858),\n (3886, 3888),\n (3889, 3890),\n (3891, 3896),\n (3939, 3947),\n (3949, 3951),\n (3954, 3955),\n (3960, 3961),\n (3962, 3965),\n (3971, 3972),\n (3975, 3976),\n (3985, 3986),\n (3989, 3990),\n (3994, 3995),\n (4002, 4003),\n (4008, 4009),\n (4013, 4014),\n (4023, 4024),\n (4033, 4036),\n (4040, 4041),\n (4053, 4054),\n (4059, 4060),\n (4063, 4065),\n (4068, 4069),\n (4076, 4077),\n (4080, 4084),\n (4091, 4092),\n (4102, 4103),\n (4110, 4111),\n (4120, 4121),\n (4130, 4131),\n (4139, 4141),\n (4143, 4144),\n (4153, 4154),\n (4166, 4167),\n (4171, 4172),\n (4183, 4184),\n (4193, 4194),\n (4203, 4204),\n (4208, 4209),\n (4211, 4212),\n (4214, 4215),\n (4216, 4217),\n (4225, 4226),\n (4232, 4235),\n (4240, 4241),\n (4246, 4247),\n (4253, 4254),\n (4260, 4261),\n (4262, 4264),\n (4267, 4268),\n (4270, 4271),\n (4277, 4278),\n (4281, 4282),\n (4288, 4289),\n (4298, 4299),\n (4304, 4305),\n (4306, 4308),\n (4310, 4316),\n (4317, 4318),\n (4323, 4324),\n (5220, 5230),\n (5231, 5232),\n (8605, 8610),\n (8611, 8613),\n (8733, 8743),\n (22858, 22863),\n (22864, 22866),\n (23458, 23460),\n (23461, 23463),\n (23483, 23484),\n (23504, 23505),\n (23507, 23521),\n (23522, 23524),\n (23525, 23526),\n (23569, 23574),\n (23576, 23579),\n (23583, 23587),\n (24193, 24195),\n (36253, 36254),\n (36392, 36395),\n (36399, 36400),\n (36401, 36404),\n (36407, 36408),\n (37720, 37721),\n (37724, 37725),\n (37743, 37746),\n (37748, 37749),\n (37750, 37751),\n (37753, 37760),\n (37763, 37764),\n (37792, 37805),\n (37811, 37815),\n (37816, 37819),\n (37821, 37823),\n (37824, 37829),\n (37848, 37849),\n (37850, 37851),\n (37855, 37856),\n (37882, 37883),\n (37887, 37888),\n (38135, 38136),\n (38980, 38983),\n (38986, 38987),\n (38996, 38997),\n (38998, 38999),\n (39020, 39021),\n (39027, 39031),\n (39032, 39033),\n (39034, 39036),\n (39039, 39040),\n (39068, 39070),\n (39080, 39085),\n (39086, 39087),\n (39090, 39091),\n (39096, 39097),\n (39098, 39099),\n (39101, 39103),\n (39113, 39116),\n (39118, 39119),\n (39131, 39135),\n (39141, 39142),\n (39144, 39145),\n (39156, 39158),\n (39159, 39160),\n (39162, 39163),\n (39165, 39166),\n (39175, 39181),\n (39187, 39190),\n (39191, 39194),\n (39195, 39197),\n (39223, 39226),\n (39227, 39229),\n (39230, 39233),\n (39235, 39236),\n (39253, 39255),\n (39256, 39257),\n (39258, 39259),\n (39260, 39264),\n (39268, 39271),\n (39273, 39278),\n (39284, 39287),\n (39288, 39289),\n (39306, 39307),\n (39309, 39310),\n (39312, 39317),\n (39319, 39320),\n (39322, 39323),\n (39334, 39337),\n (39340, 39341),\n (39348, 39350),\n (39354, 39356),\n (39370, 39371),\n (39372, 39374),\n (39375, 39376),\n (39379, 39381),\n (39382, 39383),\n (39428, 39430),\n (39432, 39441),\n (39442, 39445),\n (39446, 39447),\n (39448, 39450),\n (39451, 39453),\n (39454, 39456),\n (39457, 39459),\n (39460, 39462),\n (39463, 39465),\n (39466, 39468),\n (39469, 39471),\n (39472, 39474),\n (39475, 39477),\n (39478, 39480),\n (39481, 39483),\n (39484, 39486),\n (39487, 39489),\n (39493, 39495),\n (39496, 39510),\n (39512, 39513),\n (39514, 39516),\n (39524, 39525),\n (39544, 39549),\n (39550, 39551),\n (39555, 39557),\n (39564, 39565),\n (39569, 39570),\n (39574, 39575),\n (39627, 39629),\n (39631, 39636),\n (39637, 39639),\n (39640, 39644),\n (39648, 39649),\n (39650, 39657),\n (39659, 39660),\n (39662, 39663),\n (39707, 39708),\n (39713, 39714),\n (39723, 39724),\n (39741, 39742),\n (39749, 39750),\n (39751, 39753),\n (39759, 39760),\n (39764, 39765),\n (39767, 39780),\n (39781, 39786),\n (39787, 39791),\n (39793, 39794),\n (39944, 39946),\n (39947, 39948),\n (39949, 39951),\n (39952, 39954),\n (39955, 39957),\n (39958, 39964),\n (39965, 39966),\n (39967, 39968),\n (39969, 40011),\n (40013, 40014),\n (40017, 40024),\n (40025, 40026),\n (40027, 40028),\n (40030, 40031),\n (40032, 40034),\n (40036, 40040),\n (40067, 40068),\n (40078, 40080),\n (40084, 40085),\n (40093, 40097),\n (40098, 40101),\n (40102, 40104),\n (40114, 40115),\n (41459, 41460),\n (41463, 41464),\n (41474, 41475),\n (41476, 41477),\n (41745, 41747),\n (42069, 42070),\n (42286, 42287),\n (42690, 42691),\n (42832, 42833),\n (42974, 42975),\n (43302, 43303),\n (43423, 43424),\n (43687, 43688),\n (43690, 43691),\n (43692, 43693),\n (44207, 44208),\n (44229, 44230),\n (44754, 44755),\n (44898, 44899),\n (45161, 45162),\n (45183, 45185),\n (45186, 45187),\n (45212, 45213),\n (45216, 45217),\n (45268, 45273),\n (45331, 45332),\n (45337, 45339),\n (45341, 45343),\n (45345, 45349),\n (45351, 45352),\n (45363, 45365),\n (45370, 45371),\n (45380, 45388),\n (45389, 45390),\n (45405, 45406),\n (45409, 45410),\n (45412, 45413),\n (45418, 45419),\n (45422, 45425),\n (45429, 45432),\n (45434, 45435),\n (45612, 45613),\n (45641, 45642),\n (45646, 45647),\n (45648, 45649),\n (45758, 45762),\n (45763, 45764),\n (45781, 45784),\n (45785, 45786),\n (45793, 45794),\n (45795, 45796),\n (45800, 45807),\n (45811, 45813),\n (45823, 45824),\n (45825, 45827),\n (45828, 45829),\n (45832, 45833),\n (45839, 45847),\n (45848, 45849),\n (45864, 45865),\n (45868, 45869),\n (45876, 45878),\n (45883, 45889),\n (45903, 45905),\n (45908, 45909),\n (45919, 45920),\n (45923, 45928),\n (45929, 45930),\n (45944, 45947),\n (45974, 45975),\n (45976, 45977),\n (46273, 46276),\n (46278, 46279),\n (46288, 46289),\n (46292, 46296),\n (46314, 46316),\n (46318, 46319),\n (46340, 46341),\n (46342, 46343),\n (46643, 46644),\n (46645, 46647),\n (46650, 46651),\n (46652, 46653),\n (46659, 46660),\n (46661, 46662),\n (46663, 46669),\n (46670, 46671),\n (46675, 46679),\n (46703, 46704),\n (46705, 46707),\n (46713, 46714),\n (46715, 46716),\n (46720, 46722),\n (46726, 46759),\n (46764, 46767),\n (46771, 46772),\n (46782, 46783),\n (46789, 46794),\n (47089, 47094),\n (47095, 47101),\n (47102, 47105),\n (47111, 47112),\n (47114, 47117),\n (47170, 47172),\n (47182, 47195),\n (47196, 47198),\n (47199, 47202),\n (47203, 47205),\n (47207, 47210),\n (47211, 47213),\n (47214, 47216),\n (47217, 47219),\n (47220, 47222),\n (47223, 47225),\n (47226, 47228),\n (47229, 47231),\n (47232, 47233),\n (47235, 47236),\n (47242, 47243),\n (47247, 47252),\n (47253, 47255),\n (47256, 47268),\n (47271, 47274),\n (47333, 47335),\n (47336, 47337),\n (47338, 47345),\n (47346, 47347),\n (47349, 47352),\n (47356, 47357),\n (47359, 47362),\n (47364, 47365),\n (47369, 47372),\n (47374, 47375),\n (47427, 47429),\n (47430, 47444),\n (47445, 47449),\n (47456, 47459),\n (47460, 47461),\n (47463, 47464),\n (47466, 47469),\n (47499, 47500),\n (47502, 47503),\n (47504, 47524),\n (47525, 47527),\n (47528, 47530),\n (47716, 47717),\n (50081, 50082),\n (50397, 50398),\n (50405, 50407),\n (50725, 50729),\n (50753, 50754),\n (50755, 50756),\n (50758, 50759),\n (50760, 50761),\n (50778, 50779),\n (50802, 50803),\n (50851, 50852),\n (50859, 50860),\n (50862, 50863),\n (50865, 50866),\n (50868, 50869),\n (50870, 50873),\n (50875, 50876),\n (50878, 50879),\n (50881, 50882),\n (50883, 50884),\n (50887, 50888),\n (50890, 50891),\n (50893, 50894),\n (50896, 50897),\n (50898, 50901),\n (50903, 50904),\n (50906, 50907),\n (50909, 50910),\n (50912, 50913),\n (50930, 50931),\n (50977, 50978),\n (50995, 50996),\n (51067, 51068),\n (51082, 51083),\n (51100, 51101),\n (51124, 51125),\n (51173, 51174),\n (51188, 51189),\n (51206, 51207),\n (51230, 51231),\n (51277, 51278),\n (51295, 51296),\n (51367, 51368),\n (51382, 51383),\n (51400, 51401),\n (51424, 51425),\n (51473, 51474),\n (51488, 51489),\n (51506, 51507),\n (51530, 51531),\n (51577, 51578),\n (51595, 51596),\n (51667, 51668),\n (51682, 51683),\n (51700, 51701),\n (51724, 51725),\n (51773, 51774),\n (51788, 51789),\n (51806, 51807),\n (51830, 51831),\n (51877, 51878),\n (51895, 51896),\n (51967, 51968),\n (51982, 51983),\n (52000, 52001),\n (52024, 52025),\n (52073, 52074),\n (52088, 52089),\n (52106, 52107),\n (52130, 52131),\n (52177, 52178),\n (52195, 52196),\n (52267, 52269),\n (52270, 52271),\n (52288, 52289),\n (52312, 52313),\n (52361, 52362),\n (52376, 52377),\n (52390, 52391),\n (52408, 52409),\n (52432, 52433),\n (52481, 52482),\n (52496, 52497),\n (52514, 52515),\n (52538, 52539),\n (52587, 52588),\n (52602, 52603),\n (52620, 52621),\n (52644, 52645),\n (52693, 52694),\n (52708, 52709),\n (52726, 52727),\n (52750, 52751),\n (52799, 52800),\n (52814, 52815),\n (52832, 52833),\n (52856, 52857),\n (52905, 52906),\n (52920, 52921),\n (52938, 52939),\n (52962, 52963),\n (53011, 53012),\n (53026, 53027),\n (53044, 53045),\n (53068, 53069),\n (53117, 53118),\n (53132, 53133),\n (53150, 53151),\n (53174, 53175),\n (53223, 53224),\n (53238, 53239),\n (53256, 53257),\n (53280, 53281),\n (53329, 53330),\n (53344, 53345),\n (53358, 53359),\n (53372, 53373),\n (53386, 53387),\n (53400, 53401),\n (53418, 53419),\n (53442, 53443),\n (53489, 53490),\n (53507, 53508),\n (53579, 53580),\n (53594, 53595),\n (53612, 53613),\n (53636, 53637),\n (53685, 53686),\n (53700, 53701),\n (53718, 53719),\n (53742, 53743),\n (53789, 53790),\n (53807, 53808),\n (53879, 53880),\n (53894, 53895),\n (53912, 53913),\n (53936, 53937),\n (53985, 53986),\n (54000, 54001),\n (54018, 54019),\n (54042, 54043),\n (54089, 54090),\n (54107, 54108),\n (54179, 54180),\n (54194, 54195),\n (54212, 54213),\n (54236, 54237),\n (54285, 54286),\n (54300, 54301),\n (54318, 54319),\n (54342, 54343),\n (54389, 54390),\n (54407, 54408),\n (54479, 54481),\n (54482, 54483),\n (54500, 54501),\n (54524, 54525),\n (54573, 54574),\n (54588, 54589),\n (54602, 54603),\n (54620, 54621),\n (54644, 54645),\n (54693, 54694),\n (54708, 54709),\n (54726, 54727),\n (54750, 54751),\n (54799, 54800),\n (54814, 54815),\n (54832, 54833),\n (54856, 54857),\n (54865, 54866),\n (54868, 54869),\n (54871, 54872),\n (54874, 54875),\n (54878, 54879),\n (54881, 54882),\n (54884, 54885),\n (54887, 54888),\n (54890, 54891),\n (54893, 54894),\n (54897, 54898),\n (54900, 54901),\n (54903, 54904),\n (54906, 54907),\n (54908, 54909),\n (54911, 54912),\n (54913, 54914),\n (54916, 54917),\n (54919, 54920),\n (54922, 54923),\n (54927, 54928),\n (54942, 54943),\n (54960, 54961),\n (54984, 54985),\n (55033, 55034),\n (55048, 55049),\n (55062, 55063),\n (55076, 55077),\n (55090, 55091),\n (55104, 55105),\n (55118, 55119),\n (55136, 55137),\n (55160, 55161),\n (55209, 55210),\n (55224, 55225),\n (55278, 55279),\n (55303, 55304),\n (55334, 55335),\n (55359, 55360),\n (55390, 55391),\n (55415, 55416),\n (55476, 55477),\n (55501, 55502),\n (56609, 56610),\n (56611, 56613),\n (56614, 56620),\n (56621, 56622),\n (56623, 56624),\n (56625, 56629),\n (56630, 56640),\n (56642, 56643),\n (56645, 56647),\n (56649, 56656),\n (56658, 56662),\n (56663, 56664),\n (56665, 56666),\n (56667, 56668),\n (56669, 56671),\n (56672, 56674),\n (56695, 56696),\n (56717, 56719),\n (56749, 56750),\n (56760, 56761),\n (56784, 56787),\n (56789, 56791),\n (56794, 56795),\n (56796, 56798),\n (56800, 56802),\n (56806, 56807),\n (56829, 56830),\n (56834, 56835),\n (56854, 56863),\n (56864, 56872),\n (56873, 56876),\n (56880, 56881),\n (56883, 56885),\n (56887, 56890),\n (56891, 56897),\n (56898, 56900),\n (56901, 56903),\n (56908, 56910),\n (56913, 56915),\n (56916, 56917),\n (56919, 56933),\n (56939, 56945),\n (56946, 56947),\n (56950, 56952),\n (56954, 56964),\n (56965, 56967),\n (56977, 56978),\n (56979, 56986),\n (56987, 56989),\n (56990, 56992),\n (56993, 56994),\n (56995, 56996),\n (56998, 56999),\n (57005, 57007),\n (57008, 57009),\n (57010, 57012),\n (57014, 57017),\n (57028, 57029),\n (57039, 57040),\n (57057, 57058),\n (57066, 57067),\n (57072, 57073),\n (57079, 57080),\n (57081, 57082),\n (57084, 57085),\n (57232, 57234),\n (57255, 57256),\n (57277, 57278),\n (57299, 57300),\n (57321, 57322),\n (57343, 57344),\n (57365, 57372),\n (58114, 58116),\n (58828, 58829),\n (58840, 58841),\n (58874, 58875),\n (58876, 58877),\n (59766, 59767),\n (60258, 60259),\n (60504, 60505),\n (61119, 61120),\n (61387, 61388),\n (61510, 61511),\n (61755, 61756),\n (62243, 62246),\n (62247, 62255),\n (62256, 62280),\n (62281, 62282),\n (62283, 62284),\n (62285, 62286),\n (62289, 62291),\n (62294, 62295),\n (62297, 62298),\n (62299, 62302),\n (62303, 62321),\n (62322, 62325),\n (62335, 62336),\n (62346, 62394),\n (62396, 62414),\n (62415, 62417),\n (62419, 62425),\n (62430, 62440),\n (62441, 62448),\n (62449, 62451),\n (62454, 62457),\n (62459, 62462),\n (62463, 62466),\n (62467, 62468),\n (62469, 62470),\n (62472, 62473),\n (62474, 62483),\n (62484, 62485),\n (62487, 62490),\n (62491, 62492),\n (62493, 62494),\n (62496, 62499),\n (62500, 62501),\n (62506, 62508),\n (62514, 62517),\n (62518, 62519),\n (62523, 62526),\n (62530, 62532),\n (62533, 62537),\n (62538, 62539),\n (62543, 62545),\n (62547, 62548),\n (62552, 62553),\n (62554, 62555),\n (62556, 62557),\n (62561, 62564),\n (62570, 62573),\n (62574, 62575),\n (62577, 62578),\n (62580, 62582),\n (62583, 62584),\n (62586, 62591),\n (62592, 62593),\n (62595, 62599),\n (62600, 62601),\n (62850, 62851),\n (63019, 63020),\n (63098, 63099),\n (63343, 63344),\n (63345, 63347),\n (63393, 63394),\n (63470, 63471),\n (63472, 63473),\n (63474, 63475),\n (63642, 63643),\n (63648, 63649),\n (63703, 63704),\n (63847, 63848),\n (63866, 63867),\n (63868, 63869),\n (64219, 64220),\n (64466, 64467),\n (64504, 64505),\n (64514, 64515),\n (64592, 64593),\n (64715, 64716),\n (64838, 64839),\n (64961, 64962),\n (64965, 64967),\n (65425, 65426),\n (65457, 65458),\n (65694, 65695),\n (65697, 65698),\n (65704, 65706),\n (66196, 66197),\n (66201, 66202),\n (66324, 66325),\n (66448, 66449),\n (66541, 66542),\n (66572, 66573),\n (66574, 66575),\n (66580, 66581),\n (66586, 66587),\n (66596, 66597),\n (66608, 66609),\n (67110, 67111),\n (67113, 67114),\n (67143, 67144),\n (67527, 67528),\n (67552, 67554),\n (67555, 67556),\n (67558, 67559),\n (67561, 67562),\n (67563, 67564),\n (67739, 67741),\n (68354, 68355),\n (68521, 68522),\n (68523, 68524),\n (68528, 68529),\n (68535, 68536),\n (68537, 68538),\n (69096, 69100),\n (69101, 69103),\n (69106, 69108),\n (69109, 69118),\n (69120, 69121),\n (69122, 69123),\n (69125, 69126),\n (69128, 69129),\n (69132, 69133),\n (69137, 69146),\n (69161, 69176),\n (69182, 69183),\n (69187, 69188),\n (69191, 69194),\n (69204, 69206),\n (69211, 69213),\n (69218, 69220),\n (69225, 69227),\n (69233, 69235),\n (69236, 69238),\n (69239, 69247),\n (69248, 69251),\n (69254, 69269),\n (69270, 69272),\n (69273, 69275),\n (69276, 69278),\n (69279, 69281),\n (69282, 69284),\n (69285, 69287),\n (69288, 69292),\n (69293, 69294),\n (69296, 69298),\n (69303, 69304),\n (69305, 69314),\n (69317, 69318),\n (69328, 69331),\n (69338, 69339),\n (69353, 69357),\n (69359, 69367),\n (69369, 69381),\n (69382, 69383),\n (69384, 69385),\n (69386, 69388),\n (69389, 69392),\n (69394, 69419),\n (69421, 69427),\n (69429, 69433),\n (69434, 69439),\n (69440, 69445),\n (69447, 69454),\n (69461, 69464),\n (69465, 69466),\n (69467, 69470),\n (69472, 69476),\n (69477, 69478),\n (69484, 69485),\n (69486, 69487),\n (69489, 69490),\n (69492, 69493),\n (69495, 69497),\n (69613, 69614),\n (69617, 69618),\n (69623, 69624),\n (69626, 69627),\n (69628, 69631),\n (69632, 69640),\n (69643, 69644),\n (69646, 69648),\n (69661, 69662),\n (69664, 69666),\n (69667, 69671),\n (69692, 69707),\n (69708, 69748),\n (69754, 69758),\n (69762, 69763),\n (69767, 69768),\n (69770, 69771),\n (69775, 69776),\n (69782, 69784),\n (69787, 69788),\n (69790, 69791),\n (69795, 69796),\n (69801, 69802),\n (69806, 69807),\n (69810, 69811),\n (69815, 69817),\n (69826, 69827),\n (69828, 69829),\n (69833, 69834),\n (69837, 69838),\n (69840, 69841),\n (69851, 69852),\n (69862, 69864),\n (69871, 69872),\n (69887, 69888),\n (70000, 70001),\n (70006, 70007),\n (70037, 70038),\n (70040, 70041),\n (70043, 70046),\n (70052, 70053),\n (70054, 70055),\n (70069, 70071),\n (70073, 70074),\n (70084, 70085),\n (70111, 70112),\n (70115, 70116),\n (70120, 70121),\n (70131, 70132),\n (70136, 70137),\n (70159, 70160),\n (70164, 70165),\n (70172, 70173),\n (70174, 70176),\n (70183, 70185),\n (70193, 70196),\n (70202, 70203),\n (70205, 70207),\n (70210, 70211),\n (70215, 70216),\n (70219, 70220),\n (70222, 70223),\n (70224, 70225),\n (70226, 70228),\n (70229, 70230),\n (70233, 70236),\n (70239, 70240),\n (70243, 70246),\n (70250, 70252),\n (70261, 70264),\n (70280, 70281),\n (70282, 70288),\n (70289, 70290),\n (70292, 70293),\n (70418, 70421),\n (70423, 70424),\n (70425, 70427),\n (70454, 70455),\n (70462, 70466),\n (70467, 70469),\n (70471, 70477),\n (70481, 70483),\n (70485, 70489),\n (70490, 70491),\n (70493, 70494),\n (70498, 70501),\n (70507, 70509),\n (70510, 70513),\n (70515, 70517),\n (70518, 70519),\n (70520, 70521),\n (70525, 70529),\n (70531, 70544),\n (70545, 70546),\n (70547, 70553),\n (70554, 70555),\n (70559, 70561),\n (70562, 70563),\n (70567, 70568),\n (70569, 70579),\n (70580, 70581),\n (70582, 70583),\n (70584, 70585),\n (70586, 70589),\n (70590, 70591),\n (70594, 70595),\n (70601, 70602),\n (70603, 70606),\n (70610, 70611),\n (70612, 70613),\n (70618, 70620),\n (70625, 70627),\n (70629, 70630),\n (70636, 70639),\n (70644, 70645),\n (70647, 70649),\n (70653, 70655),\n (70663, 70664),\n (70710, 70711),\n (70724, 70726),\n (70745, 70746),\n (70789, 70790),\n (70793, 70794),\n (70798, 70802),\n (70809, 70810),\n (70813, 70814),\n (70821, 70822),\n (70827, 70828),\n (70832, 70834),\n (70840, 70841),\n (70843, 70844),\n (70847, 70849),\n (70852, 70853),\n (70855, 70858),\n (70860, 70863),\n (70864, 70865),\n (70867, 70868),\n (70870, 70873),\n ...]"
     },
     "execution_count": 95,
     "metadata": {},
     "output_type": "execute_result"
    }
   ],
   "source": [
    "# 将间断的不正常数据合并为连续的不正常区域\n",
    "def get_consistent_abnormal(abnormal):\n",
    "    consistent_abnormal = []\n",
    "    left,right = abnormal[0][0], abnormal[0][0] + 1\n",
    "    for i in range(1, len(abnormal)):\n",
    "        if abnormal[i][0] == right:\n",
    "            right += 1\n",
    "        else:\n",
    "            consistent_abnormal.append((left, right))\n",
    "            left, right = abnormal[i][0], abnormal[i][0] + 1\n",
    "    consistent_abnormal.append((left, right))\n",
    "    return consistent_abnormal\n",
    "consistent_abnormal = get_consistent_abnormal(abnormal)\n",
    "consistent_abnormal\n"
   ],
   "metadata": {
    "collapsed": false,
    "ExecuteTime": {
     "start_time": "2023-04-19T21:57:57.734130Z",
     "end_time": "2023-04-19T21:57:57.754127Z"
    }
   }
  },
  {
   "cell_type": "code",
   "execution_count": 97,
   "outputs": [
    {
     "name": "stderr",
     "output_type": "stream",
     "text": [
      "100%|██████████| 1/1 [00:05<00:00,  5.54s/it]\n"
     ]
    }
   ],
   "source": [
    "from pathlib2 import Path\n",
    "data_path = r\"C:\\Users\\sivan\\Downloads\\LogdiffTest\\difference data\\runtimeapi1\"\n",
    "data_path = Path(data_path)\n",
    "dataset = MyDataset(data_path, padding_length=50,stride=1)\n",
    "loader = DataLoader(dataset.data, batch_size=128, shuffle=False)"
   ],
   "metadata": {
    "collapsed": false,
    "ExecuteTime": {
     "start_time": "2023-04-19T22:23:58.345297Z",
     "end_time": "2023-04-19T22:24:03.970325Z"
    }
   }
  },
  {
   "cell_type": "code",
   "execution_count": 98,
   "outputs": [
    {
     "name": "stderr",
     "output_type": "stream",
     "text": [
      "100%|██████████| 912/912 [00:38<00:00, 23.86it/s]\n"
     ]
    }
   ],
   "source": [
    "predictions, y_true = predict(model,loader,device,K=2)\n",
    "accuracy, abnormal = evaluate(y_true, predictions)"
   ],
   "metadata": {
    "collapsed": false,
    "ExecuteTime": {
     "start_time": "2023-04-19T22:24:15.906815Z",
     "end_time": "2023-04-19T22:24:54.151632Z"
    }
   }
  },
  {
   "cell_type": "code",
   "execution_count": 99,
   "outputs": [
    {
     "data": {
      "text/plain": "93.63305836148794"
     },
     "execution_count": 99,
     "metadata": {},
     "output_type": "execute_result"
    }
   ],
   "source": [
    "accuracy"
   ],
   "metadata": {
    "collapsed": false,
    "ExecuteTime": {
     "start_time": "2023-04-19T22:24:55.527254Z",
     "end_time": "2023-04-19T22:24:55.564853Z"
    }
   }
  },
  {
   "cell_type": "code",
   "execution_count": 101,
   "outputs": [],
   "source": [
    "for i in range(len(abnormal)):\n",
    "    if 157000<=abnormal[i][0]<=158000:\n",
    "        print(abnormal[i])"
   ],
   "metadata": {
    "collapsed": false,
    "ExecuteTime": {
     "start_time": "2023-04-19T22:26:39.622251Z",
     "end_time": "2023-04-19T22:26:39.642750Z"
    }
   }
  },
  {
   "cell_type": "code",
   "execution_count": 106,
   "outputs": [
    {
     "data": {
      "text/plain": "[(114180, 14839, [14118, 9377]),\n (114182, 13307, [12221, 14118]),\n (114223, 14842, [14118, 14839]),\n (114226, 14842, [12221, 14839]),\n (114227, 14842, [14118, 14839]),\n (114640, 12235, [14118, 12221]),\n (114641, 11194, [12221, 14118]),\n (114642, 11194, [14118, 12221]),\n (114643, 11194, [14118, 12221]),\n (114645, 11194, [12221, 14118]),\n (114647, 12235, [14118, 12221]),\n (114649, 14829, [14118, 12221]),\n (114651, 12221, [14829, 14118]),\n (114653, 12235, [14118, 12221]),\n (114657, 11400, [13307, 12221]),\n (114663, 14842, [14118, 14829]),\n (114664, 13307, [12221, 11497]),\n (114666, 14839, [14118, 14829]),\n (114672, 11400, [11497, 13307]),\n (114673, 14842, [14118, 14839]),\n (114678, 14829, [14118, 14839]),\n (114683, 12221, [14118, 14119]),\n (114685, 11400, [11497, 13307]),\n (114686, 11194, [14118, 13307]),\n (114687, 12221, [14118, 14839]),\n (114688, 14842, [14118, 14839]),\n (114694, 11400, [13307, 11497]),\n (114695, 14842, [14118, 14839]),\n (114704, 14829, [14118, 14839]),\n (114706, 12221, [14118, 14119]),\n (114740, 12221, [14118, 14839]),\n (114751, 14839, [14829, 14118]),\n (114753, 14829, [14839, 14842]),\n (114768, 12221, [14118, 13307]),\n (114790, 14118, [13307, 14839]),\n (114791, 14118, [12221, 14839]),\n (114895, 13309, [13307, 11497]),\n (114933, 14842, [14839, 14118]),\n (114940, 14842, [14839, 14118]),\n (114941, 12221, [13307, 14839]),\n (114943, 5409, [14839, 14118]),\n (114944, 10292, [14829, 14839]),\n (114945, 6337, [11497, 13307]),\n (114946, 4962, [14118, 14839]),\n (114947, 11194, [14839, 14118]),\n (114966, 12221, [13307, 14118]),\n (114970, 12221, [14118, 14842]),\n (115201, 13309, [11497, 13307]),\n (115241, 11013, [13307, 14119]),\n (115242, 12221, [14118, 14119]),\n (115244, 14829, [14118, 14119]),\n (115253, 14829, [14118, 14119]),\n (115254, 1290, [14118, 14119]),\n (115255, 12221, [14119, 14118]),\n (115256, 11400, [13307, 5866]),\n (115257, 6333, [14118, 14119]),\n (115258, 6333, [14118, 14839]),\n (115259, 6333, [14119, 7180]),\n (115260, 6333, [14119, 14118]),\n (115261, 6333, [14118, 14119]),\n (115262, 6333, [14118, 14119]),\n (115264, 14829, [14118, 14119]),\n (115265, 1290, [14119, 14118]),\n (115267, 14118, [14119, 14839]),\n (115268, 14842, [14839, 14118]),\n (115275, 1290, [14839, 14118]),\n (115276, 14842, [14839, 14118]),\n (115283, 1290, [14839, 14118]),\n (115284, 14842, [14839, 14118]),\n (115285, 13307, [14839, 14118]),\n (115291, 1290, [14839, 14118]),\n (115292, 14842, [14829, 14118]),\n (115299, 1290, [14118, 14119]),\n (115300, 12221, [14118, 14119]),\n (115301, 12221, [14119, 14118]),\n (115302, 12221, [14118, 14119]),\n (115303, 12221, [14118, 14119]),\n (115304, 1290, [14118, 14839]),\n (115305, 1290, [14118, 14839]),\n (115331, 12221, [14118, 13307]),\n (115336, 14829, [14118, 14839]),\n (115338, 12221, [14829, 14118]),\n (115340, 12221, [14118, 14839]),\n (115346, 14829, [14839, 14118]),\n (115347, 12221, [14829, 14839]),\n (115350, 12221, [13307, 14118]),\n (115355, 12221, [14829, 14118]),\n (115358, 12221, [14118, 13307]),\n (115362, 14829, [14118, 14842]),\n (115363, 12221, [14829, 14118]),\n (115366, 12221, [13307, 14118]),\n (115371, 12221, [14829, 14118]),\n (115375, 12221, [14118, 14119]),\n (115376, 12221, [14118, 14119]),\n (115381, 14829, [14118, 14839]),\n (115382, 12221, [14118, 14119]),\n (115383, 12221, [14829, 14118]),\n (115386, 12221, [14118, 13307]),\n (115390, 14829, [14118, 14839]),\n (115391, 12221, [14829, 14118]),\n (115394, 12221, [14118, 13307]),\n (115397, 1290, [14118, 14119]),\n (115398, 1290, [14118, 14839]),\n (115402, 6333, [14118, 14839]),\n (115403, 6333, [14118, 14839]),\n (115404, 6333, [14118, 14839]),\n (115405, 6333, [14118, 14839]),\n (115406, 6333, [14118, 14839]),\n (115407, 6333, [14118, 14839]),\n (115408, 6333, [14118, 14119]),\n (115409, 6333, [14118, 14839]),\n (115410, 6333, [14118, 14839]),\n (115413, 1290, [14118, 14839]),\n (115416, 14118, [14829, 14839]),\n (115417, 11013, [13307, 11497]),\n (115418, 12221, [14839, 14118]),\n (115420, 14829, [14118, 14839]),\n (115429, 14829, [14118, 14119]),\n (115430, 1290, [14118, 14839]),\n (115431, 12221, [14118, 14119]),\n (115432, 12221, [14118, 14119]),\n (115433, 12221, [14118, 14119]),\n (115434, 12221, [14119, 14118]),\n (115435, 1290, [14118, 14119]),\n (115436, 1290, [14118, 14839]),\n (115437, 12221, [14119, 14118]),\n (115443, 1290, [14118, 14119]),\n (115445, 12221, [14119, 14118]),\n (115451, 1290, [14118, 14119]),\n (115459, 12221, [14119, 13307]),\n (115461, 14118, [14839, 14119]),\n (115476, 12221, [14119, 13307]),\n (115484, 1290, [14118, 14119]),\n (115488, 12221, [14119, 14118]),\n (115491, 1290, [14118, 14119]),\n (115492, 1290, [14118, 14119]),\n (115498, 1290, [14119, 14118]),\n (115502, 12221, [14119, 14118]),\n (115503, 12221, [14119, 14118]),\n (115509, 1290, [14118, 14119]),\n (115512, 14118, [14119, 13309]),\n (115516, 1290, [14118, 14119]),\n (115518, 12221, [14119, 13307]),\n (115519, 1290, [14118, 14839]),\n (115525, 1290, [14118, 14119]),\n (115526, 14118, [12221, 13307]),\n (115527, 6333, [14118, 12221]),\n (115528, 6333, [14118, 6337]),\n (115529, 14118, [6337, 12221]),\n (115530, 14118, [12221, 6337]),\n (115531, 6333, [12221, 14118]),\n (115532, 6333, [12221, 6337]),\n (115533, 14118, [12221, 11194]),\n (115534, 14118, [6337, 5866]),\n (115536, 14118, [12221, 13307]),\n (115538, 6333, [14118, 14839]),\n (115539, 6333, [14118, 14839]),\n (115540, 14118, [12221, 11194]),\n (115541, 14118, [12221, 15396]),\n (115542, 14118, [12221, 5866]),\n (115543, 14118, [12221, 15396]),\n (115544, 14118, [5866, 12221]),\n (115545, 14118, [12221, 14839]),\n (115546, 14118, [12221, 11194]),\n (115547, 14118, [12221, 14839]),\n (115548, 14118, [12221, 14839]),\n (115549, 14118, [12221, 14839]),\n (115550, 14118, [12221, 14839]),\n (115552, 14829, [14839, 14118]),\n (115553, 1290, [14839, 14118]),\n (115554, 14118, [14839, 6333]),\n (115555, 1290, [14839, 14118]),\n (115557, 14118, [14839, 6333]),\n (115638, 14118, [6333, 2311]),\n (115639, 14118, [12221, 6801]),\n (115640, 1290, [6333, 14839]),\n (115641, 14118, [14839, 5836]),\n (115642, 12221, [5866, 15396]),\n (115643, 14118, [5866, 6333]),\n (115644, 14118, [5866, 12221]),\n (115645, 1290, [5866, 6337]),\n (115646, 14118, [5866, 6337]),\n (115647, 14118, [6337, 5866]),\n (115649, 14118, [5866, 6337]),\n (115650, 14118, [14839, 5866]),\n (115651, 14118, [5866, 14839]),\n (115652, 12221, [5866, 13307]),\n (115653, 14118, [14839, 14842]),\n (115654, 14118, [13307, 14839]),\n (115658, 6333, [14839, 14118]),\n (115659, 6333, [14839, 14118]),\n (115660, 6333, [14839, 14118]),\n (115661, 6333, [14839, 14118]),\n (115662, 6333, [14839, 14118]),\n (115663, 6333, [14839, 14118]),\n (115664, 6333, [14839, 14118]),\n (115665, 6333, [14839, 14118]),\n (115666, 6333, [14839, 14118]),\n (115669, 1290, [14839, 14118]),\n (115671, 12221, [14839, 14118]),\n (115672, 12221, [14839, 14118]),\n (115679, 12221, [13307, 14118]),\n (115682, 12221, [14118, 14119]),\n (115686, 5836, [14118, 14839]),\n (115687, 1827, [13307, 11497]),\n (115690, 1778, [13307, 11497]),\n (115691, 4787, [14118, 14839]),\n (115693, 2060, [14118, 14119]),\n (115694, 10554, [14118, 14119]),\n (115696, 5328, [14118, 14119]),\n (115697, 12221, [14118, 14119]),\n (115698, 12221, [14118, 5866]),\n (115703, 12221, [14118, 5866]),\n (115704, 10558, [14829, 14118]),\n (115705, 5866, [11497, 13307]),\n (115707, 6827, [14118, 14119]),\n (115708, 6828, [14118, 14119]),\n (115711, 14119, [5866, 14118]),\n (115714, 2991, [5866, 12221]),\n (115715, 5338, [14118, 14839]),\n (115716, 14262, [14118, 14119]),\n (115717, 14262, [14118, 14119]),\n (115718, 2975, [14118, 14119]),\n (115727, 14829, [14118, 14119]),\n (115728, 1290, [14118, 14119]),\n (115729, 1290, [14119, 14118]),\n (115733, 6333, [14118, 14119]),\n (115734, 6333, [14118, 14119]),\n (115735, 6333, [14119, 14118]),\n (115738, 1290, [14119, 14118]),\n (115740, 12221, [14119, 14118]),\n (115748, 14829, [14118, 14839]),\n (115749, 1290, [14118, 14119]),\n (115750, 12221, [14118, 14119]),\n (115751, 1290, [14119, 14118]),\n (115755, 6333, [14118, 14119]),\n (115758, 1290, [14118, 14119]),\n (115760, 12221, [14118, 14119]),\n (115766, 1290, [14118, 14839]),\n (115768, 12221, [13307, 11400]),\n (115770, 14118, [14839, 12221]),\n (115774, 1290, [14839, 14118]),\n (115781, 1290, [14839, 14118]),\n (115784, 1290, [14839, 14118]),\n (115785, 1290, [14839, 13307]),\n (115786, 1290, [14839, 14118]),\n (115789, 6333, [14839, 14118]),\n (115790, 6333, [14839, 14118]),\n (115791, 6333, [14839, 14118]),\n (115792, 6333, [14839, 14118]),\n (115820, 6333, [14839, 2060]),\n (115824, 14118, [6333, 15396]),\n (115825, 14118, [5866, 15396]),\n (115826, 1290, [5866, 15396]),\n (115827, 14118, [15396, 6333]),\n (115828, 14118, [15396, 6333]),\n (115829, 14118, [6333, 9377]),\n (115830, 14118, [6333, 15396]),\n (115831, 14118, [6333, 15396]),\n (115832, 14118, [6333, 15396]),\n (115897, 14118, [6333, 12220]),\n (115898, 14118, [6333, 9377]),\n (115899, 1290, [6333, 15396]),\n (115900, 14118, [6333, 15396]),\n (115901, 1290, [6333, 4354]),\n (115902, 12221, [15396, 4354]),\n (115903, 12221, [15396, 4354]),\n (115904, 12221, [15396, 6333]),\n (115905, 14118, [6333, 15396]),\n (115906, 14118, [6333, 15396]),\n (115907, 12221, [15396, 6333]),\n (115908, 14118, [6333, 4415]),\n (115909, 14118, [6333, 4354]),\n (115910, 14118, [15396, 6333]),\n (115911, 14118, [4354, 6333]),\n (115912, 14118, [4355, 15396]),\n (115913, 14118, [6333, 4354]),\n (115914, 14118, [4354, 6333]),\n (115915, 14118, [6333, 4355]),\n (115916, 14118, [6333, 9377]),\n (115917, 14118, [6333, 12220]),\n (116026, 14118, [6333, 12220]),\n (116027, 14118, [14839, 6333]),\n (116030, 14118, [14839, 6333]),\n (116033, 14119, [14839, 12221]),\n (116034, 14119, [12221, 14839]),\n (116036, 14119, [14839, 12221]),\n (116037, 14119, [13307, 12221]),\n (116039, 14119, [13307, 12221]),\n (116040, 14119, [6337, 14118]),\n (116042, 14119, [12221, 6337]),\n (116043, 14119, [14118, 6337]),\n (116116, 14117, [14119, 14118]),\n (116117, 1290, [14119, 14118]),\n (116473, 14117, [13307, 11497]),\n (116474, 1290, [14118, 14119]),\n (116476, 14117, [13307, 11497]),\n (116477, 1290, [14118, 14119]),\n (116479, 14117, [13307, 11497]),\n (116480, 1290, [14118, 14119]),\n (116481, 1290, [14118, 14119]),\n (116482, 15441, [14119, 14118]),\n (116490, 6333, [14839, 14118]),\n (116491, 6333, [14839, 14118]),\n (116492, 6333, [14839, 14118]),\n (116493, 6333, [14839, 14118]),\n (116494, 6333, [14839, 14118]),\n (116495, 6333, [14839, 14118]),\n (116496, 6333, [14839, 14118]),\n (116497, 6333, [14839, 14118]),\n (116498, 6333, [14839, 14118]),\n (116499, 6333, [14839, 14842]),\n (116500, 6333, [14839, 14118]),\n (116501, 6333, [14839, 14118]),\n (116502, 6333, [14839, 14842]),\n (116503, 6333, [14839, 14118]),\n (116504, 6333, [14839, 14118]),\n (116505, 6333, [14839, 14842]),\n (116506, 6333, [14839, 14842]),\n (116507, 6333, [14839, 14118]),\n (116508, 6333, [14839, 14118]),\n (116509, 6333, [14839, 14118]),\n (116512, 1290, [14839, 14118]),\n (116515, 14118, [14839, 14842]),\n (116516, 14117, [13307, 5866]),\n (116517, 6337, [14839, 14842]),\n (116518, 6337, [14839, 14118]),\n (116519, 6337, [14839, 14118]),\n (116520, 6337, [14839, 14118]),\n (116521, 6337, [14839, 14118]),\n (116522, 5338, [14839, 14118]),\n (116523, 5338, [14839, 14118]),\n (116524, 6337, [14119, 14839]),\n (116525, 6337, [14839, 14118]),\n (116526, 6337, [14118, 14839]),\n (116527, 6337, [7180, 14118]),\n (116528, 6337, [7180, 14118]),\n (116529, 6337, [7180, 14118]),\n (116530, 6337, [7180, 14119]),\n (116531, 6337, [14119, 7180]),\n (116532, 6337, [7180, 14119]),\n (116533, 6337, [7180, 14119]),\n (116534, 2871, [7180, 14119]),\n (116535, 6337, [7180, 14119]),\n (116536, 6337, [7180, 14119]),\n (116537, 6337, [7180, 14119]),\n (116538, 6337, [7180, 14119]),\n (116539, 6337, [7180, 14119]),\n (116540, 6337, [14119, 7180]),\n (116541, 6337, [14119, 14118]),\n (116542, 1290, [14118, 14119]),\n (116543, 6337, [14119, 7180]),\n (116544, 6337, [14119, 14118]),\n (116545, 6337, [14119, 14118]),\n (116546, 6337, [14119, 14118]),\n (116547, 6337, [14119, 14118]),\n (116548, 6337, [14119, 14118]),\n (116549, 6337, [14119, 14118]),\n (116550, 6337, [14119, 14118]),\n (116551, 6337, [14119, 14118]),\n (116552, 6337, [14119, 14118]),\n (116553, 6337, [14119, 14118]),\n (116554, 6337, [14119, 14118]),\n (116555, 6337, [14119, 14118]),\n (116556, 6337, [14119, 14118]),\n (116557, 6337, [14119, 14118]),\n (116558, 6337, [14119, 14118]),\n (116559, 6337, [14119, 14118]),\n (116560, 6337, [14119, 14118]),\n (116561, 6337, [14119, 14118]),\n (116562, 6337, [14119, 14118]),\n (116563, 6337, [14119, 14118]),\n (116564, 6337, [14119, 14118]),\n (116565, 6337, [14119, 14118]),\n (116566, 6337, [14119, 14118]),\n (116567, 6337, [14119, 14118]),\n (116568, 6337, [14119, 14118]),\n (116569, 6337, [14119, 14118]),\n (116570, 6337, [14119, 14118]),\n (116571, 6337, [14119, 14118]),\n (116572, 6337, [14119, 14118]),\n (116573, 6337, [14119, 14118]),\n (116574, 6337, [14119, 14118]),\n (116575, 6337, [14119, 14118]),\n (116576, 6337, [14119, 14118]),\n (116577, 6337, [14119, 14118]),\n (116578, 6337, [14119, 14118]),\n (116579, 6337, [14119, 14118]),\n (116580, 6337, [14119, 14118]),\n (116581, 6337, [14119, 14118]),\n (116582, 6337, [14119, 14118]),\n (116583, 6337, [14119, 14118]),\n (116584, 6337, [14119, 14118]),\n (116585, 6337, [14119, 14118]),\n (116586, 6337, [14119, 14118]),\n (116587, 6337, [14119, 14118]),\n (116588, 6337, [14119, 14118]),\n (116589, 6337, [14118, 14119]),\n (116590, 6337, [14119, 14118]),\n (116591, 6337, [14119, 14118]),\n (116592, 6337, [14119, 14118]),\n (116593, 6337, [14119, 14118]),\n (116594, 6337, [14119, 14118]),\n (116595, 6337, [14119, 14118]),\n (116596, 6337, [14119, 14118]),\n (116597, 6337, [14118, 14119]),\n (116598, 6337, [14119, 14118]),\n (116599, 6337, [14118, 14119]),\n (116600, 6337, [12221, 14119]),\n (116601, 5337, [14118, 14839]),\n (116602, 1290, [14118, 14829]),\n (116603, 14117, [11400, 14119]),\n (116604, 1290, [14118, 12221]),\n (116605, 6827, [14118, 14119]),\n (116606, 5338, [14118, 14119]),\n (116608, 14117, [11400, 13307]),\n (116609, 5338, [14118, 14839]),\n (116610, 2871, [14119, 14118]),\n (116611, 2871, [14118, 12221]),\n (116612, 4034, [14118, 14839]),\n (116613, 2871, [12221, 14118]),\n (116614, 4034, [14118, 14839]),\n (116615, 2871, [14118, 14119]),\n (116616, 2871, [14118, 12221]),\n (116617, 2871, [12221, 14118])]"
     },
     "execution_count": 106,
     "metadata": {},
     "output_type": "execute_result"
    }
   ],
   "source": [
    "abnormal[7000:]"
   ],
   "metadata": {
    "collapsed": false,
    "ExecuteTime": {
     "start_time": "2023-04-19T22:27:52.664603Z",
     "end_time": "2023-04-19T22:27:52.725660Z"
    }
   }
  },
  {
   "cell_type": "code",
   "execution_count": 107,
   "outputs": [
    {
     "data": {
      "text/plain": "7425"
     },
     "execution_count": 107,
     "metadata": {},
     "output_type": "execute_result"
    }
   ],
   "source": [
    "len(abnormal)"
   ],
   "metadata": {
    "collapsed": false,
    "ExecuteTime": {
     "start_time": "2023-04-19T22:27:58.588192Z",
     "end_time": "2023-04-19T22:27:58.662792Z"
    }
   }
  },
  {
   "cell_type": "code",
   "execution_count": null,
   "outputs": [],
   "source": [],
   "metadata": {
    "collapsed": false
   }
  }
 ],
 "metadata": {
  "kernelspec": {
   "display_name": "Python 3",
   "language": "python",
   "name": "python3"
  },
  "language_info": {
   "codemirror_mode": {
    "name": "ipython",
    "version": 2
   },
   "file_extension": ".py",
   "mimetype": "text/x-python",
   "name": "python",
   "nbconvert_exporter": "python",
   "pygments_lexer": "ipython2",
   "version": "2.7.6"
  }
 },
 "nbformat": 4,
 "nbformat_minor": 0
}
