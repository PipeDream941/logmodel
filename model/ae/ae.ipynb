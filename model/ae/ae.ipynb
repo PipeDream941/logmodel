{
 "cells": [
  {
   "cell_type": "code",
   "execution_count": 1,
   "metadata": {
    "collapsed": true,
    "ExecuteTime": {
     "start_time": "2023-04-08T16:51:17.066456Z",
     "end_time": "2023-04-08T16:51:18.980856Z"
    }
   },
   "outputs": [],
   "source": [
    "import torch\n",
    "import torch.nn as nn\n",
    "import numpy as np"
   ]
  },
  {
   "cell_type": "code",
   "execution_count": 2,
   "outputs": [],
   "source": [
    "class AutoEncoder(nn.Module):\n",
    "    def __init__(self, input_dim=768, hidden=[360, 180, 90, 40], output_dim=768):\n",
    "\n",
    "        super(AutoEncoder, self).__init__()\n",
    "        self.input_dim = input_dim\n",
    "        self.hidden = hidden\n",
    "        self.output_dim = output_dim\n",
    "        self.encoder = nn.Sequential(\n",
    "            nn.Linear(self.input_dim, self.hidden[0]),\n",
    "            nn.ReLU(True),\n",
    "            nn.Linear(self.hidden[0], self.hidden[1]),\n",
    "            nn.ReLU(True),\n",
    "            nn.Linear(self.hidden[1], self.hidden[2]),\n",
    "            nn.ReLU(True),\n",
    "            nn.Linear(self.hidden[2], self.hidden[3]),\n",
    "            nn.ReLU(True),\n",
    "        )\n",
    "        self.decoder = nn.Sequential(\n",
    "            nn.Linear(self.hidden[3], self.hidden[2]),\n",
    "            nn.ReLU(True),\n",
    "            nn.Linear(self.hidden[2], self.hidden[1]),\n",
    "            nn.ReLU(True),\n",
    "            nn.Linear(self.hidden[1], self.hidden[0]),\n",
    "            nn.ReLU(True),\n",
    "            nn.Linear(self.hidden[0], self.output_dim),\n",
    "            nn.Tanh()\n",
    "        )\n",
    "\n",
    "    def forward(self,x):\n",
    "        latent = self.encoder(x)\n",
    "        x = self.decoder(latent)\n",
    "        return x"
   ],
   "metadata": {
    "collapsed": false,
    "ExecuteTime": {
     "start_time": "2023-04-08T16:51:18.980856Z",
     "end_time": "2023-04-08T16:51:18.994757Z"
    }
   }
  },
  {
   "cell_type": "code",
   "execution_count": 36,
   "outputs": [],
   "source": [
    "# 定义训练函数\n",
    "def train(model, optimizer, criterion, dataloader, num_epochs):\n",
    "    train_loss = []\n",
    "    for epoch in range(num_epochs):\n",
    "        for batch in dataloader:\n",
    "            optimizer.zero_grad()\n",
    "            input_data = batch[0]\n",
    "            output_data = model(input_data)\n",
    "            loss = criterion(output_data, input_data)\n",
    "            loss.backward()\n",
    "            optimizer.step()\n",
    "            train_loss.append(loss.item())\n",
    "        print(f\"Epoch {epoch + 1}/{num_epochs}, Train Loss: {np.mean(train_loss):.4f}\")\n"
   ],
   "metadata": {
    "collapsed": false,
    "ExecuteTime": {
     "start_time": "2023-04-08T17:57:34.261128Z",
     "end_time": "2023-04-08T17:57:34.292394Z"
    }
   }
  },
  {
   "cell_type": "code",
   "execution_count": 37,
   "outputs": [],
   "source": [
    "from torch import optim\n",
    "\n",
    "# 定义超参数\n",
    "\n",
    "num_epochs = 30\n",
    "batch_size = 64\n",
    "lr = 0.001\n",
    "\n",
    "# 准备数据\n",
    "api_embed_path = r\"D:\\workspace\\centific\\apimodel\\data\\api_embed_mean.np\"\n",
    "data = np.load(api_embed_path)\n",
    "data = torch.from_numpy(data).float()\n",
    "\n",
    "# 定义模型、优化器和损失函数\n",
    "model = AutoEncoder()\n",
    "optimizer = optim.Adam(model.parameters(), lr=lr)\n",
    "criterion = nn.MSELoss(reduction='sum')\n",
    "\n",
    "#转移到GPU\n",
    "device = torch.device(\"cuda\" if torch.cuda.is_available() else \"cpu\")\n",
    "model = model.to(device)\n",
    "data = data.to(device)\n",
    "\n",
    "dataset = torch.utils.data.TensorDataset(data)\n",
    "dataloader = torch.utils.data.DataLoader(dataset, batch_size=32, shuffle=True)"
   ],
   "metadata": {
    "collapsed": false,
    "ExecuteTime": {
     "start_time": "2023-04-08T17:57:37.268358Z",
     "end_time": "2023-04-08T17:57:37.379580Z"
    }
   }
  },
  {
   "cell_type": "code",
   "execution_count": 38,
   "outputs": [
    {
     "name": "stdout",
     "output_type": "stream",
     "text": [
      "Epoch 1/30, Train Loss: 2391.3587\n",
      "Epoch 2/30, Train Loss: 2209.7448\n",
      "Epoch 3/30, Train Loss: 2113.7043\n",
      "Epoch 4/30, Train Loss: 2042.1916\n",
      "Epoch 5/30, Train Loss: 1986.8204\n",
      "Epoch 6/30, Train Loss: 1942.5816\n",
      "Epoch 7/30, Train Loss: 1906.3531\n",
      "Epoch 8/30, Train Loss: 1875.9655\n",
      "Epoch 9/30, Train Loss: 1849.7637\n",
      "Epoch 10/30, Train Loss: 1827.1358\n",
      "Epoch 11/30, Train Loss: 1807.1679\n",
      "Epoch 12/30, Train Loss: 1789.4174\n",
      "Epoch 13/30, Train Loss: 1773.6019\n",
      "Epoch 14/30, Train Loss: 1759.4593\n",
      "Epoch 15/30, Train Loss: 1746.6381\n",
      "Epoch 16/30, Train Loss: 1734.9137\n",
      "Epoch 17/30, Train Loss: 1724.0926\n",
      "Epoch 18/30, Train Loss: 1714.0988\n",
      "Epoch 19/30, Train Loss: 1704.7705\n",
      "Epoch 20/30, Train Loss: 1696.1140\n",
      "Epoch 21/30, Train Loss: 1688.1072\n",
      "Epoch 22/30, Train Loss: 1680.5587\n",
      "Epoch 23/30, Train Loss: 1673.4765\n",
      "Epoch 24/30, Train Loss: 1666.7830\n",
      "Epoch 25/30, Train Loss: 1660.4484\n",
      "Epoch 26/30, Train Loss: 1654.4103\n",
      "Epoch 27/30, Train Loss: 1648.6677\n",
      "Epoch 28/30, Train Loss: 1643.2527\n",
      "Epoch 29/30, Train Loss: 1638.0470\n",
      "Epoch 30/30, Train Loss: 1633.0773\n"
     ]
    }
   ],
   "source": [
    "train(model, optimizer, criterion, dataloader, num_epochs)"
   ],
   "metadata": {
    "collapsed": false,
    "ExecuteTime": {
     "start_time": "2023-04-08T17:57:38.612512Z",
     "end_time": "2023-04-08T17:58:18.936976Z"
    }
   }
  },
  {
   "cell_type": "code",
   "execution_count": 40,
   "outputs": [],
   "source": [
    "encoder = model.encoder\n",
    "X_encoded = encoder(data).cpu().detach().numpy()"
   ],
   "metadata": {
    "collapsed": false,
    "ExecuteTime": {
     "start_time": "2023-04-08T17:58:48.704520Z",
     "end_time": "2023-04-08T17:58:48.739231Z"
    }
   }
  },
  {
   "cell_type": "code",
   "execution_count": 46,
   "outputs": [],
   "source": [
    "np.save(r\"D:\\workspace\\centific\\apimodel\\data\\api_embed_ae.npy\", X_encoded)"
   ],
   "metadata": {
    "collapsed": false,
    "ExecuteTime": {
     "start_time": "2023-04-08T18:02:17.270148Z",
     "end_time": "2023-04-08T18:02:17.288143Z"
    }
   }
  },
  {
   "cell_type": "code",
   "execution_count": null,
   "outputs": [],
   "source": [],
   "metadata": {
    "collapsed": false
   }
  }
 ],
 "metadata": {
  "kernelspec": {
   "display_name": "Python 3",
   "language": "python",
   "name": "python3"
  },
  "language_info": {
   "codemirror_mode": {
    "name": "ipython",
    "version": 2
   },
   "file_extension": ".py",
   "mimetype": "text/x-python",
   "name": "python",
   "nbconvert_exporter": "python",
   "pygments_lexer": "ipython2",
   "version": "2.7.6"
  }
 },
 "nbformat": 4,
 "nbformat_minor": 0
}
